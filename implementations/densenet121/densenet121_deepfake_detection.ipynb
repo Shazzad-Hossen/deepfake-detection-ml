{
 "cells": [
  {
   "cell_type": "code",
   "execution_count": 1,
   "id": "b12d8e61-0e57-4642-8cc6-c69488c13939",
   "metadata": {},
   "outputs": [
    {
     "name": "stdout",
     "output_type": "stream",
     "text": [
      "Note: you may need to restart the kernel to use updated packages.\n"
     ]
    }
   ],
   "source": [
    "pip install torch>=1.13.0 torchvision>=0.14.0 timm>=0.6.5 opencv-python pillow scikit-learn numpy matplotlib"
   ]
  },
  {
   "cell_type": "markdown",
   "id": "bf9a0749-1715-4669-b658-fcd3f2e334a4",
   "metadata": {},
   "source": [
    "# Import LIbraries"
   ]
  },
  {
   "cell_type": "code",
   "execution_count": 2,
   "id": "22a702e8-eeba-4f7f-babe-22d8cc896b7d",
   "metadata": {},
   "outputs": [],
   "source": [
    "import os\n",
    "import cv2\n",
    "import torch\n",
    "import torch.nn as nn\n",
    "import torch.optim as optim\n",
    "from torch.utils.data import DataLoader, random_split\n",
    "from torchvision import datasets, transforms\n",
    "import timm\n",
    "from PIL import Image\n",
    "from pathlib import Path"
   ]
  },
  {
   "cell_type": "markdown",
   "id": "654abbed-304e-44fa-a64e-83ba2a8353d3",
   "metadata": {},
   "source": [
    "# Introduce Dataset\n"
   ]
  },
  {
   "cell_type": "code",
   "execution_count": 3,
   "id": "50899cf5-84c6-4111-91d7-7ecd93374da5",
   "metadata": {},
   "outputs": [],
   "source": [
    "real_videos_dir = r\"F:\\deepfake_workstation\\dataset\\real\"\n",
    "manipulated_videos_dir = r\"F:\\deepfake_workstation\\dataset\\manipulated\""
   ]
  },
  {
   "cell_type": "markdown",
   "id": "e5ae224c-815e-4f1e-acdd-a757f93e672a",
   "metadata": {},
   "source": [
    "# Method to check video paths"
   ]
  },
  {
   "cell_type": "code",
   "execution_count": 4,
   "id": "dcbd971c-b23d-4926-9e0b-e5312f902d43",
   "metadata": {},
   "outputs": [],
   "source": [
    "\n",
    "def count_files_if_exists(real_path, manipulated_path):\n",
    "    for label, path in {'Real': real_path, 'Manipulated': manipulated_path}.items():\n",
    "        if not os.path.exists(path):\n",
    "            print(f\"Error: {label} path does not exist -> {path}\")\n",
    "            return\n",
    "        print(f\"{label} files: {len([f for f in os.listdir(path) if os.path.isfile(os.path.join(path, f))])}\")\n"
   ]
  },
  {
   "cell_type": "markdown",
   "id": "6e6e674d-4a13-4ab8-9cb4-122230c8d5ed",
   "metadata": {},
   "source": [
    "# Checking video paths "
   ]
  },
  {
   "cell_type": "code",
   "execution_count": 5,
   "id": "9ee13c51-f478-4294-87bd-8bb0a3dfc76d",
   "metadata": {},
   "outputs": [
    {
     "name": "stdout",
     "output_type": "stream",
     "text": [
      "Real files: 1000\n",
      "Manipulated files: 1000\n"
     ]
    }
   ],
   "source": [
    "count_files_if_exists(real_videos_dir, manipulated_videos_dir)"
   ]
  },
  {
   "cell_type": "markdown",
   "id": "0c2e5266-c42b-4a4a-8d23-4e54f8bd6d62",
   "metadata": {},
   "source": [
    "# Output paths"
   ]
  },
  {
   "cell_type": "code",
   "execution_count": 6,
   "id": "acd88571-3975-4530-aefb-55dfc70fa595",
   "metadata": {},
   "outputs": [],
   "source": [
    "output_real_dir_train =  r\"F:\\deepfake_workstation\\frames\\train\\real\"\n",
    "output_real_dir_validation =  r\"F:\\deepfake_workstation\\frames\\validation\\real\"\n",
    "output_real_dir_test =  r\"F:\\deepfake_workstation\\frames\\test\\real\"\n",
    "output_manipulated_dir_train =  r\"F:\\deepfake_workstation\\frames\\train\\manipulated\"\n",
    "output_manipulated_dir_validation =  r\"F:\\deepfake_workstation\\frames\\validation\\manipulated\"\n",
    "output_manipulated_dir_test =  r\"F:\\deepfake_workstation\\frames\\test\\manipulated\"\n",
    "\n",
    "\n",
    "def ensure_dirs_exist(*dirs):\n",
    "    [os.makedirs(d, exist_ok=True) for d in dirs]\n",
    "\n",
    "ensure_dirs_exist(\n",
    "    output_real_dir_train,\n",
    "    output_real_dir_validation,\n",
    "    output_real_dir_test,\n",
    "    output_manipulated_dir_train,\n",
    "    output_manipulated_dir_validation,\n",
    "    output_manipulated_dir_test\n",
    ")"
   ]
  },
  {
   "cell_type": "markdown",
   "id": "b675dded-f077-439e-aabb-934fb4a8ef7e",
   "metadata": {},
   "source": [
    "# Frame extraction method"
   ]
  },
  {
   "cell_type": "code",
   "execution_count": 7,
   "id": "8cc33109-cfcc-44c1-a287-0d6e87536c84",
   "metadata": {},
   "outputs": [],
   "source": [
    "def extract_frames_from_videos(videos_dir, output_dir, label, skip=0, max_videos=1000):\n",
    "    video_files = [f for f in os.listdir(videos_dir) if f.endswith('.mp4')]\n",
    "    video_files = video_files[skip:skip + max_videos]  # Apply skip and limit\n",
    "\n",
    "    for video_file in video_files:\n",
    "        video_path = os.path.join(videos_dir, video_file)\n",
    "        cap = cv2.VideoCapture(video_path)\n",
    "        frame_count = 0\n",
    "        success, image = cap.read()\n",
    "\n",
    "        while success:\n",
    "            fps = int(cap.get(cv2.CAP_PROP_FPS)) or 1  # fallback to 1 if FPS is 0\n",
    "            if frame_count % fps == 0:\n",
    "                frame_filename = f\"{label}_{video_file}_frame{frame_count // fps}.jpg\"\n",
    "                frame_path = os.path.join(output_dir, frame_filename)\n",
    "                cv2.imwrite(frame_path, image)\n",
    "            success, image = cap.read()\n",
    "            frame_count += 1\n",
    "\n",
    "        cap.release()"
   ]
  },
  {
   "cell_type": "markdown",
   "id": "0863814c-1d92-4fae-b61f-adbe971d2b35",
   "metadata": {},
   "source": [
    "# Extract train videos"
   ]
  },
  {
   "cell_type": "code",
   "execution_count": 8,
   "id": "6ea34119-eef6-4eb4-9fb3-3a800e828799",
   "metadata": {},
   "outputs": [
    {
     "name": "stdout",
     "output_type": "stream",
     "text": [
      "Extracting real videos.........\n",
      "Extraction completed\n",
      "Extracting manipulated videos.........\n",
      "Extraction completed\n"
     ]
    }
   ],
   "source": [
    "print(\"Extracting real videos.........\")\n",
    "# extract_frames_from_videos(real_videos_dir, output_real_dir_train, \"real\",skip=0, max_videos=800) \n",
    "print(\"Extraction completed\")\n",
    "print(\"Extracting manipulated videos.........\")\n",
    "# extract_frames_from_videos(manipulated_videos_dir, output_manipulated_dir_train, \"manipulated\",skip=0, max_videos=800)\n",
    "print(\"Extraction completed\")"
   ]
  },
  {
   "cell_type": "markdown",
   "id": "dfac82b0-7bf6-4163-bd6b-425fe518a11d",
   "metadata": {},
   "source": [
    "# Extract validation videos"
   ]
  },
  {
   "cell_type": "code",
   "execution_count": 9,
   "id": "04cc6866-ceca-44c8-a528-3556062b7215",
   "metadata": {},
   "outputs": [
    {
     "name": "stdout",
     "output_type": "stream",
     "text": [
      "Extracting real videos.........\n",
      "Extraction completed\n",
      "Extracting manipulated videos.........\n",
      "Extraction completed\n"
     ]
    }
   ],
   "source": [
    "print(\"Extracting real videos.........\")\n",
    "# extract_frames_from_videos(real_videos_dir, output_real_dir_validation, \"real\",skip=800, max_videos=100)\n",
    "print(\"Extraction completed\")\n",
    "print(\"Extracting manipulated videos.........\")\n",
    "# extract_frames_from_videos(manipulated_videos_dir, output_manipulated_dir_validation, \"manipulated\",skip=800, max_videos=100)\n",
    "print(\"Extraction completed\")"
   ]
  },
  {
   "cell_type": "markdown",
   "id": "28438a4a-7a3b-41f2-9455-4acb8c7cd221",
   "metadata": {},
   "source": [
    "# Extract test videos"
   ]
  },
  {
   "cell_type": "code",
   "execution_count": 10,
   "id": "89cb7719-9931-4217-a473-cea842013e86",
   "metadata": {},
   "outputs": [
    {
     "name": "stdout",
     "output_type": "stream",
     "text": [
      "Extracting real videos.........\n",
      "Extraction completed\n",
      "Extracting manipulated videos.........\n",
      "Extraction completed\n"
     ]
    }
   ],
   "source": [
    "print(\"Extracting real videos.........\")\n",
    "# extract_frames_from_videos(real_videos_dir, output_real_dir_test, \"real\",skip=900, max_videos=100)\n",
    "print(\"Extraction completed\")\n",
    "print(\"Extracting manipulated videos.........\")\n",
    "# extract_frames_from_videos(manipulated_videos_dir, output_manipulated_dir_test, \"manipulated\",skip=900, max_videos=100)\n",
    "print(\"Extraction completed\")"
   ]
  },
  {
   "cell_type": "markdown",
   "id": "53956839-2fc2-44ce-ac22-4473019c5e85",
   "metadata": {},
   "source": [
    "# densenet121"
   ]
  },
  {
   "cell_type": "code",
   "execution_count": 11,
   "id": "3db74460-8a60-42f2-8588-f49fad9b7235",
   "metadata": {},
   "outputs": [],
   "source": [
    "%%capture\n",
    "pip install timm"
   ]
  },
  {
   "cell_type": "code",
   "execution_count": 12,
   "id": "76aded61-04d8-49d5-ad99-eadb310af75b",
   "metadata": {},
   "outputs": [],
   "source": [
    "import os\n",
    "import glob\n",
    "import random\n",
    "from PIL import Image\n",
    "import numpy as np\n",
    "from sklearn.model_selection import train_test_split\n",
    "from torchvision import transforms\n",
    "from torch.utils.data import Dataset, DataLoader\n",
    "import torch\n",
    "import torch.nn as nn\n",
    "import torch.optim as optim\n",
    "from timm.data.mixup import Mixup\n",
    "from timm.scheduler import CosineLRScheduler\n",
    "import timm\n"
   ]
  },
  {
   "cell_type": "code",
   "execution_count": 13,
   "id": "15d9b76b-5bd9-4e95-90e3-33683c994fa0",
   "metadata": {},
   "outputs": [
    {
     "name": "stdout",
     "output_type": "stream",
     "text": [
      "DEVICE:  cuda\n"
     ]
    }
   ],
   "source": [
    "BATCH_SIZE = 32\n",
    "EPOCHS = 50\n",
    "LR = 3e-4\n",
    "IMG_SIZE = 128\n",
    "DEVICE = torch.device(\"cuda\" if torch.cuda.is_available() else \"cpu\")\n",
    "print('DEVICE: ', DEVICE)\n",
    "dataset_dir_train =   r\"F:\\deepfake_workstation\\frames\\train\"\n",
    "dataset_dir_validation =   r\"F:\\deepfake_workstation\\frames\\validation\"\n",
    "dataset_dir_test =   r\"F:\\deepfake_workstation\\frames\\test\"\n",
    "class_to_idx = {'manipulated': 0, 'real': 1}\n"
   ]
  },
  {
   "cell_type": "code",
   "execution_count": 14,
   "id": "f17dc48a-65d2-4b8e-8c87-1aaf59561025",
   "metadata": {},
   "outputs": [],
   "source": [
    "train_transform = transforms.Compose([\n",
    "    transforms.RandomResizedCrop(IMG_SIZE, scale=(0.8, 1.0)),\n",
    "    transforms.RandomHorizontalFlip(),\n",
    "    transforms.RandomRotation(15),\n",
    "    transforms.ColorJitter(0.2, 0.2, 0.2, 0.1),\n",
    "    transforms.ToTensor(),\n",
    "    transforms.Normalize([0.5]*3, [0.5]*3)\n",
    "])\n",
    "\n",
    "val_transform = transforms.Compose([\n",
    "    transforms.Resize((IMG_SIZE, IMG_SIZE)),\n",
    "    transforms.ToTensor(),\n",
    "    transforms.Normalize([0.5]*3, [0.5]*3),\n",
    "])"
   ]
  },
  {
   "cell_type": "code",
   "execution_count": 15,
   "id": "fcf106e1-3135-4de8-bf11-9fb351e4bee7",
   "metadata": {},
   "outputs": [],
   "source": [
    "class CustomImageDataset(Dataset):\n",
    "    def __init__(self, paths, labels, transform=None):\n",
    "        self.paths = paths\n",
    "        self.labels = labels\n",
    "        self.transform = transform\n",
    "\n",
    "    def __len__(self):\n",
    "        return len(self.paths)\n",
    "\n",
    "    def __getitem__(self, idx):\n",
    "        img = Image.open(self.paths[idx]).convert(\"RGB\")\n",
    "        if self.transform:\n",
    "            img = self.transform(img)\n",
    "        return img, self.labels[idx]\n",
    "\n"
   ]
  },
  {
   "cell_type": "code",
   "execution_count": 16,
   "id": "adf1c721-a647-4c86-9c94-f35733950ce8",
   "metadata": {},
   "outputs": [],
   "source": [
    "def load_image_paths_and_labels(dataset_dir):\n",
    "    image_paths, labels = [], []\n",
    "    class_to_idx = {cls: idx for idx, cls in enumerate(os.listdir(dataset_dir)) if os.path.isdir(os.path.join(dataset_dir, cls))}\n",
    "\n",
    "    for cls, idx in class_to_idx.items():\n",
    "        paths = glob.glob(os.path.join(dataset_dir, cls, \"*.*\"))\n",
    "        for path in paths:\n",
    "            if path.lower().endswith(('.jpg', '.png', '.jpeg', '.webp', '.tiff')):\n",
    "                image_paths.append(path)\n",
    "                labels.append(idx)\n",
    "    \n",
    "    return image_paths, labels\n",
    "\n",
    "\n"
   ]
  },
  {
   "cell_type": "code",
   "execution_count": 17,
   "id": "6132874d-1323-4309-94c8-ec62c63e3bb8",
   "metadata": {},
   "outputs": [],
   "source": [
    "train_paths, train_labels = load_image_paths_and_labels(dataset_dir_train)\n",
    "val_paths, val_labels = load_image_paths_and_labels(dataset_dir_validation)\n",
    "\n",
    "train_ds = CustomImageDataset(train_paths, train_labels, transform=train_transform)\n",
    "val_ds = CustomImageDataset(val_paths, val_labels, transform=val_transform)\n",
    "\n",
    "train_loader = DataLoader(train_ds, batch_size=BATCH_SIZE, shuffle=True, num_workers=0, drop_last=True)\n",
    "val_loader = DataLoader(val_ds, batch_size=BATCH_SIZE, shuffle=False, num_workers=0)"
   ]
  },
  {
   "cell_type": "code",
   "execution_count": 18,
   "id": "d2ab8dca-331f-476f-b6ad-1ae8bcd782ea",
   "metadata": {},
   "outputs": [
    {
     "name": "stdout",
     "output_type": "stream",
     "text": [
      "\n",
      "\n",
      "\n",
      "🏋️ Training Started......\n",
      "[Epoch 1] Train Loss: 0.6576 | Train Acc: 64.17%\n",
      "[Epoch 1] Validation Loss: 0.5446 | Validation Acc: 75.86%\n",
      "[Epoch 2] Train Loss: 0.5795 | Train Acc: 77.07%\n",
      "[Epoch 2] Validation Loss: 0.4836 | Validation Acc: 80.66%\n",
      "[Epoch 3] Train Loss: 0.5588 | Train Acc: 79.96%\n",
      "[Epoch 3] Validation Loss: 0.5211 | Validation Acc: 79.81%\n",
      "[Epoch 4] Train Loss: 0.5351 | Train Acc: 82.32%\n",
      "[Epoch 4] Validation Loss: 0.4848 | Validation Acc: 80.25%\n",
      "[Epoch 5] Train Loss: 0.5247 | Train Acc: 83.88%\n",
      "[Epoch 5] Validation Loss: 0.4791 | Validation Acc: 81.21%\n",
      "[Epoch 6] Train Loss: 0.5120 | Train Acc: 84.86%\n",
      "[Epoch 6] Validation Loss: 0.4582 | Validation Acc: 82.80%\n",
      "[Epoch 7] Train Loss: 0.5147 | Train Acc: 84.78%\n",
      "[Epoch 7] Validation Loss: 0.4516 | Validation Acc: 84.39%\n",
      "[Epoch 8] Train Loss: 0.5017 | Train Acc: 86.49%\n",
      "[Epoch 8] Validation Loss: 0.4401 | Validation Acc: 84.33%\n",
      "[Epoch 9] Train Loss: 0.5022 | Train Acc: 85.86%\n",
      "[Epoch 9] Validation Loss: 0.4763 | Validation Acc: 83.13%\n",
      "[Epoch 10] Train Loss: 0.4983 | Train Acc: 86.96%\n",
      "[Epoch 10] Validation Loss: 0.4564 | Validation Acc: 84.09%\n",
      "[Epoch 11] Train Loss: 0.4955 | Train Acc: 86.96%\n",
      "[Epoch 11] Validation Loss: 0.4355 | Validation Acc: 85.49%\n",
      "[Epoch 12] Train Loss: 0.4886 | Train Acc: 87.47%\n",
      "[Epoch 12] Validation Loss: 0.4513 | Validation Acc: 83.95%\n",
      "[Epoch 13] Train Loss: 0.4931 | Train Acc: 87.38%\n",
      "[Epoch 13] Validation Loss: 0.4462 | Validation Acc: 84.53%\n",
      "[Epoch 14] Train Loss: 0.4894 | Train Acc: 87.22%\n",
      "[Epoch 14] Validation Loss: 0.4380 | Validation Acc: 84.39%\n",
      "[Epoch 15] Train Loss: 0.4864 | Train Acc: 87.80%\n",
      "[Epoch 15] Validation Loss: 0.4521 | Validation Acc: 84.58%\n",
      "[Epoch 16] Train Loss: 0.4791 | Train Acc: 88.37%\n",
      "[Epoch 16] Validation Loss: 0.4565 | Validation Acc: 83.16%\n",
      "[Epoch 17] Train Loss: 0.4848 | Train Acc: 88.15%\n",
      "[Epoch 17] Validation Loss: 0.4480 | Validation Acc: 85.10%\n",
      "[Epoch 18] Train Loss: 0.4885 | Train Acc: 87.88%\n",
      "[Epoch 18] Validation Loss: 0.4461 | Validation Acc: 85.35%\n",
      "[Epoch 19] Train Loss: 0.4836 | Train Acc: 87.84%\n",
      "[Epoch 19] Validation Loss: 0.4475 | Validation Acc: 84.09%\n",
      "[Epoch 20] Train Loss: 0.4723 | Train Acc: 89.01%\n",
      "[Epoch 20] Validation Loss: 0.4379 | Validation Acc: 85.51%\n",
      "[Epoch 21] Train Loss: 0.4755 | Train Acc: 88.96%\n",
      "[Epoch 21] Validation Loss: 0.4231 | Validation Acc: 86.04%\n",
      "[Epoch 22] Train Loss: 0.4761 | Train Acc: 89.26%\n",
      "[Epoch 22] Validation Loss: 0.4767 | Validation Acc: 82.47%\n",
      "[Epoch 23] Train Loss: 0.4712 | Train Acc: 89.80%\n",
      "[Epoch 23] Validation Loss: 0.4497 | Validation Acc: 84.36%\n",
      "[Epoch 24] Train Loss: 0.4644 | Train Acc: 90.20%\n",
      "[Epoch 24] Validation Loss: 0.4633 | Validation Acc: 83.98%\n",
      "[Epoch 25] Train Loss: 0.4754 | Train Acc: 89.35%\n",
      "[Epoch 25] Validation Loss: 0.4507 | Validation Acc: 84.03%\n",
      "[Epoch 26] Train Loss: 0.4656 | Train Acc: 89.98%\n",
      "[Epoch 26] Validation Loss: 0.4382 | Validation Acc: 85.62%\n",
      "[Epoch 27] Train Loss: 0.4661 | Train Acc: 90.50%\n",
      "[Epoch 27] Validation Loss: 0.4404 | Validation Acc: 85.35%\n",
      "[Epoch 28] Train Loss: 0.4715 | Train Acc: 89.63%\n",
      "[Epoch 28] Validation Loss: 0.4313 | Validation Acc: 85.24%\n",
      "[Epoch 29] Train Loss: 0.4651 | Train Acc: 90.35%\n",
      "[Epoch 29] Validation Loss: 0.4356 | Validation Acc: 85.68%\n",
      "[Epoch 30] Train Loss: 0.4650 | Train Acc: 90.20%\n",
      "[Epoch 30] Validation Loss: 0.4217 | Validation Acc: 86.91%\n",
      "[Epoch 31] Train Loss: 0.4658 | Train Acc: 90.38%\n",
      "[Epoch 31] Validation Loss: 0.4258 | Validation Acc: 87.19%\n",
      "[Epoch 32] Train Loss: 0.4670 | Train Acc: 90.62%\n",
      "[Epoch 32] Validation Loss: 0.4186 | Validation Acc: 87.16%\n",
      "[Epoch 33] Train Loss: 0.4617 | Train Acc: 91.26%\n",
      "[Epoch 33] Validation Loss: 0.4199 | Validation Acc: 86.58%\n",
      "[Epoch 34] Train Loss: 0.4522 | Train Acc: 91.70%\n",
      "[Epoch 34] Validation Loss: 0.4186 | Validation Acc: 86.86%\n",
      "[Epoch 35] Train Loss: 0.4603 | Train Acc: 91.32%\n",
      "[Epoch 35] Validation Loss: 0.4163 | Validation Acc: 87.43%\n",
      "[Epoch 36] Train Loss: 0.4553 | Train Acc: 91.70%\n",
      "[Epoch 36] Validation Loss: 0.4200 | Validation Acc: 87.60%\n",
      "[Epoch 37] Train Loss: 0.4501 | Train Acc: 91.53%\n",
      "[Epoch 37] Validation Loss: 0.4236 | Validation Acc: 86.86%\n",
      "[Epoch 38] Train Loss: 0.4555 | Train Acc: 91.59%\n",
      "[Epoch 38] Validation Loss: 0.4199 | Validation Acc: 87.33%\n",
      "[Epoch 39] Train Loss: 0.4579 | Train Acc: 91.54%\n",
      "[Epoch 39] Validation Loss: 0.4308 | Validation Acc: 87.08%\n",
      "[Epoch 40] Train Loss: 0.4578 | Train Acc: 91.13%\n",
      "[Epoch 40] Validation Loss: 0.4194 | Validation Acc: 87.68%\n",
      "[Epoch 41] Train Loss: 0.4497 | Train Acc: 92.03%\n",
      "[Epoch 41] Validation Loss: 0.4263 | Validation Acc: 86.86%\n",
      "[Epoch 42] Train Loss: 0.4572 | Train Acc: 91.44%\n",
      "[Epoch 42] Validation Loss: 0.4310 | Validation Acc: 87.74%\n",
      "[Epoch 43] Train Loss: 0.4511 | Train Acc: 91.49%\n",
      "[Epoch 43] Validation Loss: 0.4162 | Validation Acc: 86.94%\n",
      "[Epoch 44] Train Loss: 0.4438 | Train Acc: 92.29%\n",
      "[Epoch 44] Validation Loss: 0.4052 | Validation Acc: 87.60%\n",
      "[Epoch 45] Train Loss: 0.4546 | Train Acc: 90.97%\n",
      "[Epoch 45] Validation Loss: 0.4188 | Validation Acc: 87.65%\n",
      "[Epoch 46] Train Loss: 0.4527 | Train Acc: 92.30%\n",
      "[Epoch 46] Validation Loss: 0.4211 | Validation Acc: 87.05%\n",
      "[Epoch 47] Train Loss: 0.4529 | Train Acc: 91.75%\n",
      "[Epoch 47] Validation Loss: 0.4207 | Validation Acc: 87.30%\n",
      "[Epoch 48] Train Loss: 0.4601 | Train Acc: 91.65%\n",
      "[Epoch 48] Validation Loss: 0.4200 | Validation Acc: 87.54%\n",
      "[Epoch 49] Train Loss: 0.4526 | Train Acc: 92.05%\n",
      "[Epoch 49] Validation Loss: 0.4018 | Validation Acc: 87.85%\n",
      "[Epoch 50] Train Loss: 0.4478 | Train Acc: 92.53%\n",
      "[Epoch 50] Validation Loss: 0.4160 | Validation Acc: 87.87%\n",
      "\n",
      "✅ Best Validation Accuracy: 87.87%\n",
      "\n",
      "✅ Best Training Accuracy: 92.53%\n"
     ]
    }
   ],
   "source": [
    "import torch\n",
    "import torch.nn as nn\n",
    "import torch.optim as optim\n",
    "import timm\n",
    "from timm.scheduler import CosineLRScheduler\n",
    "from timm.data.mixup import Mixup\n",
    "import matplotlib.pyplot as plt\n",
    "\n",
    "# 🧠 Model setup\n",
    "model = timm.create_model(\"densenet121\", pretrained=True, num_classes=2)\n",
    "model = model.to(DEVICE)\n",
    "\n",
    "# ⚙️ Loss, optimizer, scheduler\n",
    "criterion = nn.CrossEntropyLoss(label_smoothing=0.1)\n",
    "optimizer = optim.AdamW(model.parameters(), lr=LR, weight_decay=1e-4)\n",
    "scheduler = CosineLRScheduler(optimizer, t_initial=EPOCHS)\n",
    "\n",
    "# 🔀 Mixup/CutMix config\n",
    "mixup_fn = Mixup(\n",
    "    mixup_alpha=0.4,\n",
    "    cutmix_alpha=1.0,\n",
    "    prob=0.8,\n",
    "    switch_prob=0.5,\n",
    "    label_smoothing=0.1,\n",
    "    num_classes=2\n",
    ")\n",
    "\n",
    "# 📊 Tracking variables\n",
    "best_val_acc = 0\n",
    "best_train_acc = 0  \n",
    "train_accuracies = []\n",
    "val_accuracies = []\n",
    "train_losses = []\n",
    "val_losses = []\n",
    "\n",
    "\n",
    "print(f\"\\n\\n\\n🏋️ Training Started......\")\n",
    "\n",
    "# 🏋️ Training loop\n",
    "for epoch in range(EPOCHS):\n",
    "    model.train()\n",
    "    total_loss = 0\n",
    "    correct = 0\n",
    "\n",
    "    for x, y in train_loader:\n",
    "        x, y = x.to(DEVICE), y.to(DEVICE)\n",
    "        x, y = mixup_fn(x, y)\n",
    "        outputs = model(x)\n",
    "        loss = criterion(outputs, y)\n",
    "\n",
    "        optimizer.zero_grad()\n",
    "        loss.backward()\n",
    "        optimizer.step()\n",
    "        total_loss += loss.item()\n",
    "\n",
    "        _, preds = torch.max(outputs, 1)\n",
    "        _, targets = torch.max(y, 1)\n",
    "        correct += (preds == targets).sum().item()\n",
    "\n",
    "    train_acc = 100 * correct / len(train_loader.dataset)\n",
    "    avg_train_loss = total_loss / len(train_loader)\n",
    "    print(f\"[Epoch {epoch+1}] Train Loss: {avg_train_loss:.4f} | Train Acc: {train_acc:.2f}%\")\n",
    "\n",
    "    # ✅ Validation\n",
    "    model.eval()\n",
    "    val_correct = 0\n",
    "    val_loss = 0\n",
    "\n",
    "    with torch.no_grad():\n",
    "        for x, y in val_loader:\n",
    "            x, y = x.to(DEVICE), y.to(DEVICE)\n",
    "            outputs = model(x)\n",
    "            loss = criterion(outputs, y)\n",
    "            val_loss += loss.item()\n",
    "            preds = torch.argmax(outputs, dim=1)\n",
    "            val_correct += (preds == y).sum().item()\n",
    "\n",
    "    val_acc = 100 * val_correct / len(val_loader.dataset)\n",
    "    avg_val_loss = val_loss / len(val_loader)\n",
    "    print(f\"[Epoch {epoch+1}] Validation Loss: {avg_val_loss:.4f} | Validation Acc: {val_acc:.2f}%\")\n",
    "\n",
    "    # ✅ Save history\n",
    "    train_losses.append(avg_train_loss)\n",
    "    train_accuracies.append(train_acc)\n",
    "    val_losses.append(avg_val_loss)\n",
    "    val_accuracies.append(val_acc)\n",
    "\n",
    "    # ✅ Save best model\n",
    "    if val_acc > best_val_acc:\n",
    "        best_val_acc = val_acc\n",
    "        torch.save(model.state_dict(), \"best_model_densenet121.pth\") \n",
    "\n",
    "    scheduler.step(epoch) \n",
    "\n",
    "print(f\"\\n✅ Best Validation Accuracy: {best_val_acc:.2f}%\") \n",
    "best_train_acc = max(train_accuracies)\n",
    "print(f\"\\n✅ Best Training Accuracy: {best_train_acc:.2f}%\")\n"
   ]
  },
  {
   "cell_type": "code",
   "execution_count": 19,
   "id": "dd7688e9-4b51-4f2a-a106-ab43484c57d7",
   "metadata": {},
   "outputs": [
    {
     "name": "stdout",
     "output_type": "stream",
     "text": [
      "\n",
      "\n",
      "Training Losses:\n",
      "\n",
      "\n",
      "[0.6575576135344466, 0.5795105912496523, 0.5588363531072444, 0.5350759095922419, 0.5247330654243874, 0.511975932759022, 0.5146609808437128, 0.5016728772977253, 0.5021937726211155, 0.4983316044871209, 0.4955415084590147, 0.4886065873896144, 0.4930502841931312, 0.48940944447806833, 0.4863506026351403, 0.4791092397376834, 0.4847997569559533, 0.48851365896532073, 0.4836355094249847, 0.4722595622326121, 0.47548632722332645, 0.4760625082156295, 0.47116995311568305, 0.4643773939077256, 0.4753981998857157, 0.4656320926522522, 0.46605021948063813, 0.4714966163407137, 0.4650769103395105, 0.46504935410655573, 0.4658026368100457, 0.46700511823711083, 0.4616984180155605, 0.4521889274809586, 0.4602725964821415, 0.45533012730594524, 0.4501320527168949, 0.4554992940261531, 0.4579048161644013, 0.45784459557430246, 0.44972115592578804, 0.4572459783696343, 0.4510845130485762, 0.4438273071200269, 0.45463339999747376, 0.45271575990527746, 0.4529347468489482, 0.4601190741108769, 0.45259762555360794, 0.44781765682093894]\n",
      "\n",
      "\n",
      "Validation Losses:\n",
      "\n",
      "\n",
      "[0.5445591732859612, 0.48356216348576964, 0.5211050881628405, 0.48484816310698525, 0.47914034128189087, 0.4582101182456602, 0.4515753079924667, 0.4400696600215477, 0.476281855974281, 0.45635816219605896, 0.43550728418325124, 0.4512950741408164, 0.44618949241805494, 0.43796379655076745, 0.4520880812615679, 0.4565313004872255, 0.44799937856824773, 0.4461218042854677, 0.44748880256686296, 0.4379018989571354, 0.4231105263818774, 0.47666449112850323, 0.4496767468619765, 0.4632959143634428, 0.4506966176263073, 0.43816367393000083, 0.440387971307102, 0.43131382515033084, 0.4355818339084324, 0.4217222097672914, 0.42580512427447137, 0.4186216293458353, 0.4198798607838781, 0.41861033230497124, 0.4163177227764799, 0.4200131218684347, 0.4235972667995252, 0.4198506542465143, 0.4307879567669149, 0.41938330416093794, 0.4262967993292892, 0.43102267489098667, 0.4162465822801255, 0.4052002880918352, 0.4187520951555486, 0.4211206956390749, 0.42074250913502875, 0.4199922442959066, 0.4017899236396739, 0.4160198195461641]\n",
      "\n",
      "\n",
      "Training Accuracies:\n",
      "\n",
      "\n",
      "[64.16755003051621, 77.0678744659664, 79.95888342809418, 82.32308631267868, 83.88423115222768, 84.8575375028107, 84.78365616266744, 86.49256368250298, 85.85975394301501, 86.95833734862356, 86.9615495808037, 87.47229449744627, 87.3823519964023, 87.22495261957535, 87.79994217982076, 88.3685072757059, 88.15007548745623, 87.87703575214417, 87.83527673380232, 89.01416594391442, 88.96277022903216, 89.25829558960521, 89.79795059586907, 90.20269185056696, 89.34502585846904, 89.9842600623173, 90.50464167550031, 89.63091452250168, 90.35366676303363, 90.19947961838682, 90.3825768526549, 90.61706980180527, 91.26272847001381, 91.70280427869326, 91.31733641707622, 91.70280427869326, 91.53255597314573, 91.59037615238829, 91.53898043750603, 91.13423918280813, 92.03045196106774, 91.43618900774148, 91.49400918698403, 92.29064276765925, 90.97362757380104, 92.30349169637981, 91.75419999357554, 91.65140856381099, 92.05293758632874, 92.52834794898975]\n",
      "\n",
      "\n",
      "Validation Accuracies:\n",
      "\n",
      "\n",
      "[75.85733882030178, 80.65843621399176, 79.8079561042524, 80.24691358024691, 81.20713305898491, 82.79835390946502, 84.38957475994513, 84.33470507544581, 83.1275720164609, 84.0877914951989, 85.48696844993141, 83.95061728395062, 84.52674897119341, 84.38957475994513, 84.58161865569274, 83.15500685871056, 85.10288065843622, 85.34979423868313, 84.0877914951989, 85.51440329218107, 86.03566529492456, 82.46913580246914, 84.36213991769547, 83.97805212620027, 84.03292181069959, 85.6241426611797, 85.34979423868313, 85.2400548696845, 85.67901234567901, 86.91358024691358, 87.18792866941016, 87.1604938271605, 86.5843621399177, 86.85871056241426, 87.43484224965707, 87.599451303155, 86.85871056241426, 87.32510288065843, 87.07818930041152, 87.68175582990398, 86.85871056241426, 87.73662551440329, 86.94101508916324, 87.599451303155, 87.65432098765432, 87.05075445816186, 87.29766803840877, 87.5445816186557, 87.84636488340192, 87.87379972565158]\n"
     ]
    }
   ],
   "source": [
    "print(f\"\\n\\nTraining Losses:\\n\\n\")\n",
    "print(train_losses)\n",
    "\n",
    "print(f\"\\n\\nValidation Losses:\\n\\n\")\n",
    "print(val_losses)\n",
    "\n",
    "print(f\"\\n\\nTraining Accuracies:\\n\\n\")\n",
    "print(train_accuracies)\n",
    "\n",
    "print(f\"\\n\\nValidation Accuracies:\\n\\n\")\n",
    "print(val_accuracies)"
   ]
  },
  {
   "cell_type": "markdown",
   "id": "388b1d29-42a4-4462-ba63-1b9c8b286fa2",
   "metadata": {},
   "source": [
    "# Loss & Accuracy Curve"
   ]
  },
  {
   "cell_type": "code",
   "execution_count": 20,
   "id": "5f417297-136d-4603-88d0-f3335b26df99",
   "metadata": {},
   "outputs": [
    {
     "data": {
      "image/png": "[encoded data removed]",
      "text/plain": [
       "<Figure size 1600x500 with 2 Axes>"
      ]
     },
     "metadata": {},
     "output_type": "display_data"
    }
   ],
   "source": [
    "import matplotlib.pyplot as plt\n",
    "\n",
    "# ✅ Create side-by-side subplots\n",
    "fig, axes = plt.subplots(1, 2, figsize=(16, 5))\n",
    "\n",
    "# 📉 Loss Curve\n",
    "axes[0].plot(train_losses, label='Training')\n",
    "axes[0].plot(val_losses, label='Validation')\n",
    "axes[0].set_title('Model Loss')\n",
    "axes[0].set_xlabel('Epoch')\n",
    "axes[0].set_ylabel('Loss')\n",
    "axes[0].legend()\n",
    "axes[0].grid(False)\n",
    "\n",
    "# 📈 Accuracy Curve\n",
    "axes[1].plot(train_accuracies, label='Training')\n",
    "axes[1].plot(val_accuracies, label='Validation')\n",
    "axes[1].set_title('Model Accuracy')\n",
    "axes[1].set_xlabel('Epoch')\n",
    "axes[1].set_ylabel('Accuracy (%)')\n",
    "axes[1].legend()\n",
    "axes[1].grid(False)\n",
    "\n",
    "plt.tight_layout()\n",
    "plt.show()\n"
   ]
  },
  {
   "cell_type": "markdown",
   "id": "499071bb-2f2d-4020-999c-3aae2c6fb9a6",
   "metadata": {},
   "source": [
    "# Test Script"
   ]
  },
  {
   "cell_type": "code",
   "execution_count": 21,
   "id": "ecca070f-80c8-408c-ad31-7fa9f01ef960",
   "metadata": {},
   "outputs": [
    {
     "name": "stdout",
     "output_type": "stream",
     "text": [
      "Video-level Accuracy: 93.50%\n"
     ]
    }
   ],
   "source": [
    "from collections import defaultdict\n",
    "import torch.nn.functional as F\n",
    "import os\n",
    "import re\n",
    "def extract_video_name(frame_path):\n",
    "    filename = os.path.basename(frame_path)\n",
    "    \n",
    "    if \"manipulated\" in filename:\n",
    "        number_part = re.search(r'manipulated_(\\d+)', filename)\n",
    "        if number_part:\n",
    "            return f\"{number_part.group(1).zfill(3)}_manipulated\"\n",
    "    elif \"real\" in filename:\n",
    "        number_part = re.search(r'real_(\\d+)', filename)\n",
    "        if number_part:\n",
    "            return f\"{number_part.group(1).zfill(3)}_real\"\n",
    "    \n",
    "    return \"000_unknown\"\n",
    "\n",
    "test_paths, test_labels = load_image_paths_and_labels(dataset_dir_test)\n",
    "\n",
    "# Create dataset and loader\n",
    "test_ds = CustomImageDataset(test_paths, test_labels, transform=val_transform)\n",
    "test_loader = DataLoader(test_ds, batch_size=BATCH_SIZE, shuffle=False, num_workers=0)\n",
    "\n",
    "# Load model\n",
    "model = timm.create_model(\"densenet121\", pretrained=True, num_classes=2)\n",
    "model.load_state_dict(torch.load(\"best_model_densenet121.pth\"))\n",
    "model = model.to(DEVICE)\n",
    "model.eval()\n",
    "\n",
    "video_preds = defaultdict(list)\n",
    "video_labels = {}\n",
    "\n",
    "with torch.no_grad():\n",
    "    idx = 0  # global index to track current frame\n",
    "    for x, y in test_loader:\n",
    "        x, y = x.to(DEVICE), y.to(DEVICE)\n",
    "        outputs = model(x)\n",
    "        probs = F.softmax(outputs, dim=1)[:, 1]  # class \"real\" probability\n",
    "\n",
    "        batch_size = x.size(0)\n",
    "        for i in range(batch_size):\n",
    "            frame_path = test_ds.paths[idx]\n",
    "            video_id = extract_video_name(frame_path)\n",
    "\n",
    "            video_preds[video_id].append(probs[i].item())\n",
    "            video_labels[video_id] = y[i].item()\n",
    "\n",
    "            idx += 1  # move to next frame\n",
    "\n",
    "# Video-level accuracy\n",
    "correct = 0\n",
    "total = 0\n",
    "\n",
    "for video_id, probs in video_preds.items():\n",
    "    avg_prob = sum(probs) / len(probs)\n",
    "    pred_label = 1 if avg_prob >= 0.5 else 0\n",
    "    true_label = video_labels[video_id]\n",
    "\n",
    "    if pred_label == true_label:\n",
    "        correct += 1\n",
    "    total += 1\n",
    "\n",
    "video_accuracy = 100 * correct / total\n",
    "print(f\"Video-level Accuracy: {video_accuracy:.2f}%\")\n"
   ]
  },
  {
   "cell_type": "markdown",
   "id": "4c1cec9c-264d-41ea-b55a-90555f5a8f6d",
   "metadata": {},
   "source": [
    "# Classification Report"
   ]
  },
  {
   "cell_type": "code",
   "execution_count": 22,
   "id": "9bee4ccd-2101-4fee-b84e-32ff3b1303dd",
   "metadata": {},
   "outputs": [
    {
     "name": "stdout",
     "output_type": "stream",
     "text": [
      "📄 Classification Report for Test::\n",
      "\n",
      "              precision    recall  f1-score   support\n",
      "\n",
      " Manipulated     0.9394    0.9300    0.9347       100\n",
      "        Real     0.9307    0.9400    0.9353       100\n",
      "\n",
      "    accuracy                         0.9350       200\n",
      "   macro avg     0.9350    0.9350    0.9350       200\n",
      "weighted avg     0.9350    0.9350    0.9350       200\n",
      "\n"
     ]
    }
   ],
   "source": [
    "from sklearn.metrics import classification_report\n",
    "\n",
    "# Prepare video-level true and predicted labels\n",
    "y_true = []\n",
    "y_pred = []\n",
    "\n",
    "for video_id, probs in video_preds.items():\n",
    "    avg_prob = sum(probs) / len(probs)\n",
    "    pred_label = 1 if avg_prob >= 0.5 else 0\n",
    "    true_label = video_labels[video_id]\n",
    "\n",
    "    y_true.append(true_label)\n",
    "    y_pred.append(pred_label)\n",
    "\n",
    "# Classification report\n",
    "target_names = ['Manipulated', 'Real']  # 0 = manipulated, 1 = real\n",
    "report = classification_report(y_true, y_pred, target_names=target_names, digits=4)\n",
    "print(\"📄 Classification Report for Test::\\n\")\n",
    "print(report)\n"
   ]
  },
  {
   "cell_type": "markdown",
   "id": "ba2d3982-e7da-4358-adfb-ac17c6924e55",
   "metadata": {},
   "source": [
    "# Confusion Matrix"
   ]
  },
  {
   "cell_type": "code",
   "execution_count": 23,
   "id": "18fbb196-138b-4476-b8c4-6b37202f30bc",
   "metadata": {},
   "outputs": [
    {
     "data": {
      "image/png": "[encoded data removed]",
      "text/plain": [
       "<Figure size 600x500 with 2 Axes>"
      ]
     },
     "metadata": {},
     "output_type": "display_data"
    }
   ],
   "source": [
    "from sklearn.metrics import confusion_matrix, ConfusionMatrixDisplay\n",
    "import matplotlib.pyplot as plt\n",
    "\n",
    "# Gather all ground truths and predictions\n",
    "y_true = []\n",
    "y_pred = []\n",
    "\n",
    "for video_id, probs in video_preds.items():\n",
    "    avg_prob = sum(probs) / len(probs)\n",
    "    pred_label = 1 if avg_prob >= 0.5 else 0\n",
    "    true_label = video_labels[video_id]\n",
    "\n",
    "    y_true.append(true_label)\n",
    "    y_pred.append(pred_label)\n",
    "\n",
    "# Compute confusion matrix\n",
    "cm = confusion_matrix(y_true, y_pred)\n",
    "disp = ConfusionMatrixDisplay(confusion_matrix=cm, display_labels=[\"Manipulated\", \"Real\"])\n",
    "\n",
    "# Plot the confusion matrix\n",
    "fig, ax = plt.subplots(figsize=(6, 5))\n",
    "disp.plot(cmap='Blues', values_format='d', ax=ax)\n",
    "ax.set_title(\"Confusion Matrix: Test\")\n",
    "plt.xticks(rotation=45)\n",
    "plt.tight_layout()\n",
    "plt.show()\n"
   ]
  },
  {
   "cell_type": "markdown",
   "id": "cd25677f-a671-4e39-8aef-289fb49b4a08",
   "metadata": {},
   "source": [
    "# ROC Curve"
   ]
  },
  {
   "cell_type": "code",
   "execution_count": 24,
   "id": "f53bd5d0-52f0-447b-b726-9e227771658a",
   "metadata": {},
   "outputs": [
    {
     "data": {
      "image/png": "[encoded data removed]",
      "text/plain": [
       "<Figure size 600x500 with 1 Axes>"
      ]
     },
     "metadata": {},
     "output_type": "display_data"
    }
   ],
   "source": [
    "from sklearn.metrics import roc_curve, auc\n",
    "import matplotlib.pyplot as plt\n",
    "\n",
    "# Collect true labels and predicted probabilities\n",
    "y_true = []\n",
    "y_score = []\n",
    "\n",
    "for video_id, probs in video_preds.items():\n",
    "    avg_prob = sum(probs) / len(probs)  # probability of class \"real\"\n",
    "    true_label = video_labels[video_id]\n",
    "\n",
    "    y_true.append(true_label)\n",
    "    y_score.append(avg_prob)  # keep raw probability for ROC\n",
    "\n",
    "# Compute ROC curve and AUC\n",
    "fpr, tpr, thresholds = roc_curve(y_true, y_score)\n",
    "roc_auc = auc(fpr, tpr)\n",
    "\n",
    "# Plot ROC curve\n",
    "plt.figure(figsize=(6, 5))\n",
    "plt.plot(fpr, tpr, color='darkorange', lw=2, label=f'ROC curve (AUC = {roc_auc:.2f})')\n",
    "plt.plot([0, 1], [0, 1], color='navy', lw=2, linestyle='--')\n",
    "plt.xlim([0.0, 1.0])\n",
    "plt.ylim([0.0, 1.05])\n",
    "plt.xlabel('False Positive Rate')\n",
    "plt.ylabel('True Positive Rate')\n",
    "plt.title('ROC Curve: Test')\n",
    "plt.legend(loc=\"lower right\")\n",
    "plt.grid(True)\n",
    "plt.tight_layout()\n",
    "plt.show()\n"
   ]
  },
  {
   "cell_type": "code",
   "execution_count": null,
   "id": "a01c1bd9-b69f-4d26-902d-5b0646cd4e97",
   "metadata": {},
   "outputs": [],
   "source": []
  }
 ],
 "metadata": {
  "kernelspec": {
   "display_name": "Python 3 (ipykernel)",
   "language": "python",
   "name": "python3"
  },
  "language_info": {
   "codemirror_mode": {
    "name": "ipython",
    "version": 3
   },
   "file_extension": ".py",
   "mimetype": "text/x-python",
   "name": "python",
   "nbconvert_exporter": "python",
   "pygments_lexer": "ipython3",
   "version": "3.13.5"
  }
 },
 "nbformat": 4,
 "nbformat_minor": 5
}
