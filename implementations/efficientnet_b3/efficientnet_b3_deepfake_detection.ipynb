{
 "cells": [
  {
   "cell_type": "code",
   "execution_count": 1,
   "id": "b12d8e61-0e57-4642-8cc6-c69488c13939",
   "metadata": {},
   "outputs": [
    {
     "name": "stdout",
     "output_type": "stream",
     "text": [
      "Note: you may need to restart the kernel to use updated packages.\n"
     ]
    }
   ],
   "source": [
    "pip install torch>=1.13.0 torchvision>=0.14.0 timm>=0.6.5 opencv-python pillow scikit-learn numpy matplotlib"
   ]
  },
  {
   "cell_type": "markdown",
   "id": "bf9a0749-1715-4669-b658-fcd3f2e334a4",
   "metadata": {},
   "source": [
    "# Import LIbraries"
   ]
  },
  {
   "cell_type": "code",
   "execution_count": 2,
   "id": "22a702e8-eeba-4f7f-babe-22d8cc896b7d",
   "metadata": {},
   "outputs": [],
   "source": [
    "import os\n",
    "import cv2\n",
    "import torch\n",
    "import torch.nn as nn\n",
    "import torch.optim as optim\n",
    "from torch.utils.data import DataLoader, random_split\n",
    "from torchvision import datasets, transforms\n",
    "import timm\n",
    "from PIL import Image\n",
    "from pathlib import Path"
   ]
  },
  {
   "cell_type": "markdown",
   "id": "654abbed-304e-44fa-a64e-83ba2a8353d3",
   "metadata": {},
   "source": [
    "# Introduce Dataset\n"
   ]
  },
  {
   "cell_type": "code",
   "execution_count": 3,
   "id": "50899cf5-84c6-4111-91d7-7ecd93374da5",
   "metadata": {},
   "outputs": [],
   "source": [
    "real_videos_dir = r\"F:\\deepfake_workstation\\dataset\\real\"\n",
    "manipulated_videos_dir = r\"F:\\deepfake_workstation\\dataset\\manipulated\""
   ]
  },
  {
   "cell_type": "markdown",
   "id": "e5ae224c-815e-4f1e-acdd-a757f93e672a",
   "metadata": {},
   "source": [
    "# Method to check video paths"
   ]
  },
  {
   "cell_type": "code",
   "execution_count": 4,
   "id": "dcbd971c-b23d-4926-9e0b-e5312f902d43",
   "metadata": {},
   "outputs": [],
   "source": [
    "\n",
    "def count_files_if_exists(real_path, manipulated_path):\n",
    "    for label, path in {'Real': real_path, 'Manipulated': manipulated_path}.items():\n",
    "        if not os.path.exists(path):\n",
    "            print(f\"Error: {label} path does not exist -> {path}\")\n",
    "            return\n",
    "        print(f\"{label} files: {len([f for f in os.listdir(path) if os.path.isfile(os.path.join(path, f))])}\")\n"
   ]
  },
  {
   "cell_type": "markdown",
   "id": "6e6e674d-4a13-4ab8-9cb4-122230c8d5ed",
   "metadata": {},
   "source": [
    "# Checking video paths "
   ]
  },
  {
   "cell_type": "code",
   "execution_count": 5,
   "id": "9ee13c51-f478-4294-87bd-8bb0a3dfc76d",
   "metadata": {},
   "outputs": [
    {
     "name": "stdout",
     "output_type": "stream",
     "text": [
      "Real files: 1000\n",
      "Manipulated files: 1000\n"
     ]
    }
   ],
   "source": [
    "count_files_if_exists(real_videos_dir, manipulated_videos_dir)"
   ]
  },
  {
   "cell_type": "markdown",
   "id": "0c2e5266-c42b-4a4a-8d23-4e54f8bd6d62",
   "metadata": {},
   "source": [
    "# Output paths"
   ]
  },
  {
   "cell_type": "code",
   "execution_count": 6,
   "id": "acd88571-3975-4530-aefb-55dfc70fa595",
   "metadata": {},
   "outputs": [],
   "source": [
    "output_real_dir_train =  r\"F:\\deepfake_workstation\\frames\\train\\real\"\n",
    "output_real_dir_validation =  r\"F:\\deepfake_workstation\\frames\\validation\\real\"\n",
    "output_real_dir_test =  r\"F:\\deepfake_workstation\\frames\\test\\real\"\n",
    "output_manipulated_dir_train =  r\"F:\\deepfake_workstation\\frames\\train\\manipulated\"\n",
    "output_manipulated_dir_validation =  r\"F:\\deepfake_workstation\\frames\\validation\\manipulated\"\n",
    "output_manipulated_dir_test =  r\"F:\\deepfake_workstation\\frames\\test\\manipulated\"\n",
    "\n",
    "\n",
    "def ensure_dirs_exist(*dirs):\n",
    "    [os.makedirs(d, exist_ok=True) for d in dirs]\n",
    "\n",
    "ensure_dirs_exist(\n",
    "    output_real_dir_train,\n",
    "    output_real_dir_validation,\n",
    "    output_real_dir_test,\n",
    "    output_manipulated_dir_train,\n",
    "    output_manipulated_dir_validation,\n",
    "    output_manipulated_dir_test\n",
    ")"
   ]
  },
  {
   "cell_type": "markdown",
   "id": "b675dded-f077-439e-aabb-934fb4a8ef7e",
   "metadata": {},
   "source": [
    "# Frame extraction method"
   ]
  },
  {
   "cell_type": "code",
   "execution_count": 7,
   "id": "8cc33109-cfcc-44c1-a287-0d6e87536c84",
   "metadata": {},
   "outputs": [],
   "source": [
    "def extract_frames_from_videos(videos_dir, output_dir, label, skip=0, max_videos=1000):\n",
    "    video_files = [f for f in os.listdir(videos_dir) if f.endswith('.mp4')]\n",
    "    video_files = video_files[skip:skip + max_videos]  # Apply skip and limit\n",
    "\n",
    "    for video_file in video_files:\n",
    "        video_path = os.path.join(videos_dir, video_file)\n",
    "        cap = cv2.VideoCapture(video_path)\n",
    "        frame_count = 0\n",
    "        success, image = cap.read()\n",
    "\n",
    "        while success:\n",
    "            fps = int(cap.get(cv2.CAP_PROP_FPS)) or 1  # fallback to 1 if FPS is 0\n",
    "            if frame_count % fps == 0:\n",
    "                frame_filename = f\"{label}_{video_file}_frame{frame_count // fps}.jpg\"\n",
    "                frame_path = os.path.join(output_dir, frame_filename)\n",
    "                cv2.imwrite(frame_path, image)\n",
    "            success, image = cap.read()\n",
    "            frame_count += 1\n",
    "\n",
    "        cap.release()"
   ]
  },
  {
   "cell_type": "markdown",
   "id": "0863814c-1d92-4fae-b61f-adbe971d2b35",
   "metadata": {},
   "source": [
    "# Extract train videos"
   ]
  },
  {
   "cell_type": "code",
   "execution_count": 8,
   "id": "6ea34119-eef6-4eb4-9fb3-3a800e828799",
   "metadata": {},
   "outputs": [
    {
     "name": "stdout",
     "output_type": "stream",
     "text": [
      "Extracting real videos.........\n",
      "Extraction completed\n",
      "Extracting manipulated videos.........\n",
      "Extraction completed\n"
     ]
    }
   ],
   "source": [
    "print(\"Extracting real videos.........\")\n",
    "# extract_frames_from_videos(real_videos_dir, output_real_dir_train, \"real\",skip=0, max_videos=800) \n",
    "print(\"Extraction completed\")\n",
    "print(\"Extracting manipulated videos.........\")\n",
    "# extract_frames_from_videos(manipulated_videos_dir, output_manipulated_dir_train, \"manipulated\",skip=0, max_videos=800)\n",
    "print(\"Extraction completed\")"
   ]
  },
  {
   "cell_type": "markdown",
   "id": "dfac82b0-7bf6-4163-bd6b-425fe518a11d",
   "metadata": {},
   "source": [
    "# Extract validation videos"
   ]
  },
  {
   "cell_type": "code",
   "execution_count": 9,
   "id": "04cc6866-ceca-44c8-a528-3556062b7215",
   "metadata": {},
   "outputs": [
    {
     "name": "stdout",
     "output_type": "stream",
     "text": [
      "Extracting real videos.........\n",
      "Extraction completed\n",
      "Extracting manipulated videos.........\n",
      "Extraction completed\n"
     ]
    }
   ],
   "source": [
    "print(\"Extracting real videos.........\")\n",
    "# extract_frames_from_videos(real_videos_dir, output_real_dir_validation, \"real\",skip=800, max_videos=100)\n",
    "print(\"Extraction completed\")\n",
    "print(\"Extracting manipulated videos.........\")\n",
    "# extract_frames_from_videos(manipulated_videos_dir, output_manipulated_dir_validation, \"manipulated\",skip=800, max_videos=100)\n",
    "print(\"Extraction completed\")"
   ]
  },
  {
   "cell_type": "markdown",
   "id": "28438a4a-7a3b-41f2-9455-4acb8c7cd221",
   "metadata": {},
   "source": [
    "# Extract test videos"
   ]
  },
  {
   "cell_type": "code",
   "execution_count": 10,
   "id": "89cb7719-9931-4217-a473-cea842013e86",
   "metadata": {},
   "outputs": [
    {
     "name": "stdout",
     "output_type": "stream",
     "text": [
      "Extracting real videos.........\n",
      "Extraction completed\n",
      "Extracting manipulated videos.........\n",
      "Extraction completed\n"
     ]
    }
   ],
   "source": [
    "print(\"Extracting real videos.........\")\n",
    "# extract_frames_from_videos(real_videos_dir, output_real_dir_test, \"real\",skip=900, max_videos=100)\n",
    "print(\"Extraction completed\")\n",
    "print(\"Extracting manipulated videos.........\")\n",
    "# extract_frames_from_videos(manipulated_videos_dir, output_manipulated_dir_test, \"manipulated\",skip=900, max_videos=100)\n",
    "print(\"Extraction completed\")"
   ]
  },
  {
   "cell_type": "markdown",
   "id": "53956839-2fc2-44ce-ac22-4473019c5e85",
   "metadata": {},
   "source": [
    "# EfficientNet-B3 Model"
   ]
  },
  {
   "cell_type": "code",
   "execution_count": 11,
   "id": "3db74460-8a60-42f2-8588-f49fad9b7235",
   "metadata": {},
   "outputs": [],
   "source": [
    "%%capture\n",
    "pip install timm"
   ]
  },
  {
   "cell_type": "code",
   "execution_count": 12,
   "id": "76aded61-04d8-49d5-ad99-eadb310af75b",
   "metadata": {},
   "outputs": [],
   "source": [
    "import os\n",
    "import glob\n",
    "import random\n",
    "from PIL import Image\n",
    "import numpy as np\n",
    "from sklearn.model_selection import train_test_split\n",
    "from torchvision import transforms\n",
    "from torch.utils.data import Dataset, DataLoader\n",
    "import torch\n",
    "import torch.nn as nn\n",
    "import torch.optim as optim\n",
    "from timm.data.mixup import Mixup\n",
    "from timm.scheduler import CosineLRScheduler\n",
    "import timm\n"
   ]
  },
  {
   "cell_type": "code",
   "execution_count": 13,
   "id": "15d9b76b-5bd9-4e95-90e3-33683c994fa0",
   "metadata": {},
   "outputs": [
    {
     "name": "stdout",
     "output_type": "stream",
     "text": [
      "DEVICE:  cuda\n"
     ]
    }
   ],
   "source": [
    "BATCH_SIZE = 32\n",
    "EPOCHS = 50\n",
    "LR = 3e-4\n",
    "IMG_SIZE = 128\n",
    "DEVICE = torch.device(\"cuda\" if torch.cuda.is_available() else \"cpu\")\n",
    "print('DEVICE: ', DEVICE)\n",
    "dataset_dir_train =   r\"F:\\deepfake_workstation\\frames\\train\"\n",
    "dataset_dir_validation =   r\"F:\\deepfake_workstation\\frames\\validation\"\n",
    "dataset_dir_test =   r\"F:\\deepfake_workstation\\frames\\test\"\n",
    "class_to_idx = {'manipulated': 0, 'real': 1}\n"
   ]
  },
  {
   "cell_type": "code",
   "execution_count": 14,
   "id": "f17dc48a-65d2-4b8e-8c87-1aaf59561025",
   "metadata": {},
   "outputs": [],
   "source": [
    "train_transform = transforms.Compose([\n",
    "    transforms.RandomResizedCrop(IMG_SIZE, scale=(0.8, 1.0)),\n",
    "    transforms.RandomHorizontalFlip(),\n",
    "    transforms.RandomRotation(15),\n",
    "    transforms.ColorJitter(0.2, 0.2, 0.2, 0.1),\n",
    "    transforms.ToTensor(),\n",
    "    transforms.Normalize([0.5]*3, [0.5]*3)\n",
    "])\n",
    "\n",
    "val_transform = transforms.Compose([\n",
    "    transforms.Resize((IMG_SIZE, IMG_SIZE)),\n",
    "    transforms.ToTensor(),\n",
    "    transforms.Normalize([0.5]*3, [0.5]*3),\n",
    "])"
   ]
  },
  {
   "cell_type": "code",
   "execution_count": 15,
   "id": "fcf106e1-3135-4de8-bf11-9fb351e4bee7",
   "metadata": {},
   "outputs": [],
   "source": [
    "class CustomImageDataset(Dataset):\n",
    "    def __init__(self, paths, labels, transform=None):\n",
    "        self.paths = paths\n",
    "        self.labels = labels\n",
    "        self.transform = transform\n",
    "\n",
    "    def __len__(self):\n",
    "        return len(self.paths)\n",
    "\n",
    "    def __getitem__(self, idx):\n",
    "        img = Image.open(self.paths[idx]).convert(\"RGB\")\n",
    "        if self.transform:\n",
    "            img = self.transform(img)\n",
    "        return img, self.labels[idx]\n",
    "\n"
   ]
  },
  {
   "cell_type": "code",
   "execution_count": 16,
   "id": "adf1c721-a647-4c86-9c94-f35733950ce8",
   "metadata": {},
   "outputs": [],
   "source": [
    "def load_image_paths_and_labels(dataset_dir):\n",
    "    image_paths, labels = [], []\n",
    "    class_to_idx = {cls: idx for idx, cls in enumerate(os.listdir(dataset_dir)) if os.path.isdir(os.path.join(dataset_dir, cls))}\n",
    "\n",
    "    for cls, idx in class_to_idx.items():\n",
    "        paths = glob.glob(os.path.join(dataset_dir, cls, \"*.*\"))\n",
    "        for path in paths:\n",
    "            if path.lower().endswith(('.jpg', '.png', '.jpeg', '.webp', '.tiff')):\n",
    "                image_paths.append(path)\n",
    "                labels.append(idx)\n",
    "    \n",
    "    return image_paths, labels\n",
    "\n",
    "\n"
   ]
  },
  {
   "cell_type": "code",
   "execution_count": 17,
   "id": "6132874d-1323-4309-94c8-ec62c63e3bb8",
   "metadata": {},
   "outputs": [],
   "source": [
    "train_paths, train_labels = load_image_paths_and_labels(dataset_dir_train)\n",
    "val_paths, val_labels = load_image_paths_and_labels(dataset_dir_validation)\n",
    "\n",
    "train_ds = CustomImageDataset(train_paths, train_labels, transform=train_transform)\n",
    "val_ds = CustomImageDataset(val_paths, val_labels, transform=val_transform)\n",
    "\n",
    "train_loader = DataLoader(train_ds, batch_size=BATCH_SIZE, shuffle=True, num_workers=0, drop_last=True)\n",
    "val_loader = DataLoader(val_ds, batch_size=BATCH_SIZE, shuffle=False, num_workers=0)"
   ]
  },
  {
   "cell_type": "code",
   "execution_count": 18,
   "id": "d2ab8dca-331f-476f-b6ad-1ae8bcd782ea",
   "metadata": {},
   "outputs": [
    {
     "name": "stdout",
     "output_type": "stream",
     "text": [
      "\n",
      "\n",
      "\n",
      "🏋️ Training Started......\n",
      "[Epoch 1] Train Loss: 0.8604 | Train Acc: 51.94%\n",
      "[Epoch 1] Validation Loss: 0.6937 | Validation Acc: 52.48%\n",
      "[Epoch 2] Train Loss: 0.6802 | Train Acc: 58.53%\n",
      "[Epoch 2] Validation Loss: 0.6547 | Validation Acc: 63.16%\n",
      "[Epoch 3] Train Loss: 0.6426 | Train Acc: 66.18%\n",
      "[Epoch 3] Validation Loss: 0.6055 | Validation Acc: 67.63%\n",
      "[Epoch 4] Train Loss: 0.6034 | Train Acc: 73.52%\n",
      "[Epoch 4] Validation Loss: 0.5564 | Validation Acc: 74.95%\n",
      "[Epoch 5] Train Loss: 0.5649 | Train Acc: 78.22%\n",
      "[Epoch 5] Validation Loss: 1.9412 | Validation Acc: 76.46%\n",
      "[Epoch 6] Train Loss: 0.5440 | Train Acc: 81.35%\n",
      "[Epoch 6] Validation Loss: 1.2113 | Validation Acc: 73.96%\n",
      "[Epoch 7] Train Loss: 0.5286 | Train Acc: 83.09%\n",
      "[Epoch 7] Validation Loss: 0.5164 | Validation Acc: 78.27%\n",
      "[Epoch 8] Train Loss: 0.5160 | Train Acc: 84.75%\n",
      "[Epoch 8] Validation Loss: 0.4997 | Validation Acc: 79.34%\n",
      "[Epoch 9] Train Loss: 0.5106 | Train Acc: 85.71%\n",
      "[Epoch 9] Validation Loss: 0.4882 | Validation Acc: 80.96%\n",
      "[Epoch 10] Train Loss: 0.4963 | Train Acc: 87.13%\n",
      "[Epoch 10] Validation Loss: 0.4871 | Validation Acc: 82.41%\n",
      "[Epoch 11] Train Loss: 0.4881 | Train Acc: 87.36%\n",
      "[Epoch 11] Validation Loss: 0.4826 | Validation Acc: 81.70%\n",
      "[Epoch 12] Train Loss: 0.4900 | Train Acc: 87.57%\n",
      "[Epoch 12] Validation Loss: 0.5064 | Validation Acc: 79.84%\n",
      "[Epoch 13] Train Loss: 0.4886 | Train Acc: 87.93%\n",
      "[Epoch 13] Validation Loss: 0.4908 | Validation Acc: 82.11%\n",
      "[Epoch 14] Train Loss: 0.4870 | Train Acc: 88.31%\n",
      "[Epoch 14] Validation Loss: 0.4711 | Validation Acc: 82.88%\n",
      "[Epoch 15] Train Loss: 0.4836 | Train Acc: 88.71%\n",
      "[Epoch 15] Validation Loss: 0.4943 | Validation Acc: 80.16%\n",
      "[Epoch 16] Train Loss: 0.4768 | Train Acc: 89.41%\n",
      "[Epoch 16] Validation Loss: 0.5012 | Validation Acc: 83.76%\n",
      "[Epoch 17] Train Loss: 0.4777 | Train Acc: 89.04%\n",
      "[Epoch 17] Validation Loss: 0.4360 | Validation Acc: 85.38%\n",
      "[Epoch 18] Train Loss: 0.4779 | Train Acc: 88.86%\n",
      "[Epoch 18] Validation Loss: 0.4479 | Validation Acc: 85.02%\n",
      "[Epoch 19] Train Loss: 0.4731 | Train Acc: 90.23%\n",
      "[Epoch 19] Validation Loss: 0.4932 | Validation Acc: 81.04%\n",
      "[Epoch 20] Train Loss: 0.4693 | Train Acc: 89.83%\n",
      "[Epoch 20] Validation Loss: 0.4449 | Validation Acc: 84.80%\n",
      "[Epoch 21] Train Loss: 0.4705 | Train Acc: 90.35%\n",
      "[Epoch 21] Validation Loss: 0.4360 | Validation Acc: 85.57%\n",
      "[Epoch 22] Train Loss: 0.4762 | Train Acc: 89.91%\n",
      "[Epoch 22] Validation Loss: 0.4502 | Validation Acc: 84.66%\n",
      "[Epoch 23] Train Loss: 0.4705 | Train Acc: 89.88%\n",
      "[Epoch 23] Validation Loss: 0.4606 | Validation Acc: 85.27%\n",
      "[Epoch 24] Train Loss: 0.4648 | Train Acc: 90.21%\n",
      "[Epoch 24] Validation Loss: 0.4480 | Validation Acc: 83.87%\n",
      "[Epoch 25] Train Loss: 0.4649 | Train Acc: 91.05%\n",
      "[Epoch 25] Validation Loss: 0.4545 | Validation Acc: 83.79%\n",
      "[Epoch 26] Train Loss: 0.4708 | Train Acc: 90.65%\n",
      "[Epoch 26] Validation Loss: 0.4445 | Validation Acc: 84.61%\n",
      "[Epoch 27] Train Loss: 0.4660 | Train Acc: 90.94%\n",
      "[Epoch 27] Validation Loss: 0.4403 | Validation Acc: 85.16%\n",
      "[Epoch 28] Train Loss: 0.4622 | Train Acc: 91.04%\n",
      "[Epoch 28] Validation Loss: 0.4320 | Validation Acc: 85.87%\n",
      "[Epoch 29] Train Loss: 0.4685 | Train Acc: 90.58%\n",
      "[Epoch 29] Validation Loss: 0.4492 | Validation Acc: 84.80%\n",
      "[Epoch 30] Train Loss: 0.4598 | Train Acc: 90.68%\n",
      "[Epoch 30] Validation Loss: 0.4443 | Validation Acc: 85.62%\n",
      "[Epoch 31] Train Loss: 0.4623 | Train Acc: 91.23%\n",
      "[Epoch 31] Validation Loss: 0.4414 | Validation Acc: 85.05%\n",
      "[Epoch 32] Train Loss: 0.4609 | Train Acc: 91.47%\n",
      "[Epoch 32] Validation Loss: 0.4214 | Validation Acc: 87.02%\n",
      "[Epoch 33] Train Loss: 0.4573 | Train Acc: 91.85%\n",
      "[Epoch 33] Validation Loss: 0.4216 | Validation Acc: 87.46%\n",
      "[Epoch 34] Train Loss: 0.4612 | Train Acc: 90.86%\n",
      "[Epoch 34] Validation Loss: 0.4489 | Validation Acc: 85.68%\n",
      "[Epoch 35] Train Loss: 0.4553 | Train Acc: 91.69%\n",
      "[Epoch 35] Validation Loss: 0.4221 | Validation Acc: 87.11%\n",
      "[Epoch 36] Train Loss: 0.4603 | Train Acc: 91.27%\n",
      "[Epoch 36] Validation Loss: 0.4653 | Validation Acc: 84.72%\n",
      "[Epoch 37] Train Loss: 0.4524 | Train Acc: 92.42%\n",
      "[Epoch 37] Validation Loss: 0.4331 | Validation Acc: 86.69%\n",
      "[Epoch 38] Train Loss: 0.4515 | Train Acc: 92.29%\n",
      "[Epoch 38] Validation Loss: 0.4148 | Validation Acc: 86.78%\n",
      "[Epoch 39] Train Loss: 0.4536 | Train Acc: 92.30%\n",
      "[Epoch 39] Validation Loss: 0.4330 | Validation Acc: 85.98%\n",
      "[Epoch 40] Train Loss: 0.4528 | Train Acc: 91.91%\n",
      "[Epoch 40] Validation Loss: 0.4268 | Validation Acc: 85.98%\n",
      "[Epoch 41] Train Loss: 0.4493 | Train Acc: 92.83%\n",
      "[Epoch 41] Validation Loss: 0.4227 | Validation Acc: 86.47%\n",
      "[Epoch 42] Train Loss: 0.4513 | Train Acc: 92.40%\n",
      "[Epoch 42] Validation Loss: 0.4269 | Validation Acc: 86.97%\n",
      "[Epoch 43] Train Loss: 0.4511 | Train Acc: 92.14%\n",
      "[Epoch 43] Validation Loss: 0.4365 | Validation Acc: 87.05%\n",
      "[Epoch 44] Train Loss: 0.4474 | Train Acc: 92.75%\n",
      "[Epoch 44] Validation Loss: 0.4286 | Validation Acc: 86.56%\n",
      "[Epoch 45] Train Loss: 0.4568 | Train Acc: 91.59%\n",
      "[Epoch 45] Validation Loss: 0.4377 | Validation Acc: 86.39%\n",
      "[Epoch 46] Train Loss: 0.4513 | Train Acc: 92.45%\n",
      "[Epoch 46] Validation Loss: 0.4268 | Validation Acc: 86.53%\n",
      "[Epoch 47] Train Loss: 0.4526 | Train Acc: 92.25%\n",
      "[Epoch 47] Validation Loss: 0.4374 | Validation Acc: 86.01%\n",
      "[Epoch 48] Train Loss: 0.4589 | Train Acc: 91.88%\n",
      "[Epoch 48] Validation Loss: 0.4259 | Validation Acc: 86.47%\n",
      "[Epoch 49] Train Loss: 0.4495 | Train Acc: 92.85%\n",
      "[Epoch 49] Validation Loss: 0.4268 | Validation Acc: 86.56%\n",
      "[Epoch 50] Train Loss: 0.4531 | Train Acc: 92.27%\n",
      "[Epoch 50] Validation Loss: 0.4251 | Validation Acc: 86.75%\n",
      "\n",
      "✅ Best Validation Accuracy: 87.46%\n",
      "\n",
      "✅ Best Training Accuracy: 92.85%\n"
     ]
    }
   ],
   "source": [
    "import torch\n",
    "import torch.nn as nn\n",
    "import torch.optim as optim\n",
    "import timm\n",
    "from timm.scheduler import CosineLRScheduler\n",
    "from timm.data.mixup import Mixup\n",
    "import matplotlib.pyplot as plt\n",
    "\n",
    "# 🧠 Model setup\n",
    "model = timm.create_model(\"efficientnet_b3\", pretrained=True, num_classes=2)\n",
    "model = model.to(DEVICE)\n",
    "\n",
    "# ⚙️ Loss, optimizer, scheduler\n",
    "criterion = nn.CrossEntropyLoss(label_smoothing=0.1)\n",
    "optimizer = optim.AdamW(model.parameters(), lr=LR, weight_decay=1e-4)\n",
    "scheduler = CosineLRScheduler(optimizer, t_initial=EPOCHS)\n",
    "\n",
    "# 🔀 Mixup/CutMix config\n",
    "mixup_fn = Mixup(\n",
    "    mixup_alpha=0.4,\n",
    "    cutmix_alpha=1.0,\n",
    "    prob=0.8,\n",
    "    switch_prob=0.5,\n",
    "    label_smoothing=0.1,\n",
    "    num_classes=2\n",
    ")\n",
    "\n",
    "# 📊 Tracking variables\n",
    "best_val_acc = 0\n",
    "best_train_acc = 0  \n",
    "train_accuracies = []\n",
    "val_accuracies = []\n",
    "train_losses = []\n",
    "val_losses = []\n",
    "\n",
    "\n",
    "print(f\"\\n\\n\\n🏋️ Training Started......\")\n",
    "\n",
    "# 🏋️ Training loop\n",
    "for epoch in range(EPOCHS):\n",
    "    model.train()\n",
    "    total_loss = 0\n",
    "    correct = 0\n",
    "\n",
    "    for x, y in train_loader:\n",
    "        x, y = x.to(DEVICE), y.to(DEVICE)\n",
    "        x, y = mixup_fn(x, y)\n",
    "        outputs = model(x)\n",
    "        loss = criterion(outputs, y)\n",
    "\n",
    "        optimizer.zero_grad()\n",
    "        loss.backward()\n",
    "        optimizer.step()\n",
    "        total_loss += loss.item()\n",
    "\n",
    "        _, preds = torch.max(outputs, 1)\n",
    "        _, targets = torch.max(y, 1)\n",
    "        correct += (preds == targets).sum().item()\n",
    "\n",
    "    train_acc = 100 * correct / len(train_loader.dataset)\n",
    "    avg_train_loss = total_loss / len(train_loader)\n",
    "    print(f\"[Epoch {epoch+1}] Train Loss: {avg_train_loss:.4f} | Train Acc: {train_acc:.2f}%\")\n",
    "\n",
    "    # ✅ Validation\n",
    "    model.eval()\n",
    "    val_correct = 0\n",
    "    val_loss = 0\n",
    "\n",
    "    with torch.no_grad():\n",
    "        for x, y in val_loader:\n",
    "            x, y = x.to(DEVICE), y.to(DEVICE)\n",
    "            outputs = model(x)\n",
    "            loss = criterion(outputs, y)\n",
    "            val_loss += loss.item()\n",
    "            preds = torch.argmax(outputs, dim=1)\n",
    "            val_correct += (preds == y).sum().item()\n",
    "\n",
    "    val_acc = 100 * val_correct / len(val_loader.dataset)\n",
    "    avg_val_loss = val_loss / len(val_loader)\n",
    "    print(f\"[Epoch {epoch+1}] Validation Loss: {avg_val_loss:.4f} | Validation Acc: {val_acc:.2f}%\")\n",
    "\n",
    "    # ✅ Save history\n",
    "    train_losses.append(avg_train_loss)\n",
    "    train_accuracies.append(train_acc)\n",
    "    val_losses.append(avg_val_loss)\n",
    "    val_accuracies.append(val_acc)\n",
    "\n",
    "    # ✅ Save best model\n",
    "    if val_acc > best_val_acc:\n",
    "        best_val_acc = val_acc\n",
    "        torch.save(model.state_dict(), \"best_model_efficientnet_b3.pth\") \n",
    "\n",
    "    scheduler.step(epoch) \n",
    "\n",
    "print(f\"\\n✅ Best Validation Accuracy: {best_val_acc:.2f}%\") \n",
    "best_train_acc = max(train_accuracies)\n",
    "print(f\"\\n✅ Best Training Accuracy: {best_train_acc:.2f}%\")\n"
   ]
  },
  {
   "cell_type": "code",
   "execution_count": 19,
   "id": "dd7688e9-4b51-4f2a-a106-ab43484c57d7",
   "metadata": {},
   "outputs": [
    {
     "name": "stdout",
     "output_type": "stream",
     "text": [
      "\n",
      "\n",
      "Training Losses:\n",
      "\n",
      "\n",
      "[0.8604338821560267, 0.6801522185895669, 0.6426185713199432, 0.6034039585188092, 0.5648644046221741, 0.5440120924831418, 0.5285500080129246, 0.516025997882272, 0.5106052263896652, 0.4962674795722765, 0.48808930234776604, 0.48996836176992936, 0.48855044005952253, 0.4869871127875253, 0.48359977282246447, 0.47682684261367153, 0.47772814440751765, 0.4778944554397599, 0.473067378525626, 0.4692955756628955, 0.470481012767725, 0.4762311539470904, 0.47048208151211957, 0.4648347723876498, 0.4649401317837307, 0.4707703316898503, 0.4660442251052876, 0.46222815221106567, 0.4685365120447222, 0.45976296849088905, 0.46233517921878475, 0.46089795553757823, 0.4572835499612392, 0.4611770559730844, 0.4553262490487884, 0.46028110455461, 0.45240193393863276, 0.4515177995395758, 0.45359940695051304, 0.4528324543019381, 0.44933809149903037, 0.451277838996899, 0.451090918370971, 0.44740506828812415, 0.45684335460510767, 0.4512846037561511, 0.45264543825952114, 0.45885559337006676, 0.4494664009522509, 0.4530630157072358]\n",
      "\n",
      "\n",
      "Validation Losses:\n",
      "\n",
      "\n",
      "[0.6937100210210734, 0.6546782798934401, 0.6055096089839935, 0.5564185297280028, 1.941210831727898, 1.2112561564957887, 0.5163992286512726, 0.49965829545991464, 0.48816210763496265, 0.4871033811778353, 0.4826201030559707, 0.5064355600298497, 0.49084014432472095, 0.4711369210690783, 0.49432395633898285, 0.5012488948148593, 0.43601409332794056, 0.4478677594870852, 0.4931616228923463, 0.44494238731108215, 0.43595167706932936, 0.45023975769678753, 0.46060705028082194, 0.448010905008567, 0.4544870542329654, 0.44451858377770376, 0.4403476315109353, 0.43199745461083294, 0.44916175436555295, 0.4443163984177405, 0.44143038961971015, 0.4213945253899223, 0.4216485282308177, 0.4489134508266784, 0.4220744434155916, 0.46529754159743325, 0.4331212880318625, 0.4147588355760825, 0.4329563490392869, 0.42678298814254895, 0.42270715665398984, 0.42685468756316003, 0.43645416932147846, 0.428638966459977, 0.43766071268341, 0.4268495351598974, 0.4373877192275566, 0.42589017069130614, 0.42680798235692474, 0.4250928479851338]\n",
      "\n",
      "\n",
      "Training Accuracies:\n",
      "\n",
      "\n",
      "[51.93536988853554, 58.53008255436703, 66.17840737528509, 73.52157013908965, 78.21785358645722, 81.34656772991552, 83.08759757155248, 84.74510937650574, 85.70556679836818, 87.12537342199094, 87.35665413896116, 87.5654492306704, 87.93485593138672, 88.31389932864347, 88.7057916546208, 89.41248273425204, 89.03986380135557, 88.86319103144776, 90.23481417236837, 89.83328514985062, 90.35045453085348, 89.91037872217404, 89.88146863255277, 90.2059040827471, 91.0475089139443, 90.6491921236067, 90.94471748417976, 91.04429668176415, 90.57531078346342, 90.68131444540812, 91.22739391603226, 91.46509909736275, 91.85377919115993, 90.86441167967621, 91.68995534997269, 91.26594070219396, 92.41591982268478, 92.29385499983938, 92.30349169637981, 91.9051749060422, 92.82708554174296, 92.39985866178408, 92.13966785519257, 92.74677973723941, 91.59037615238829, 92.45446660884649, 92.2488837493174, 91.87626481642093, 92.84635893482381, 92.26815714239825]\n",
      "\n",
      "\n",
      "Validation Accuracies:\n",
      "\n",
      "\n",
      "[52.48285322359396, 63.155006858710564, 67.62688614540467, 74.9519890260631, 76.46090534979425, 73.96433470507544, 78.27160493827161, 79.34156378600824, 80.960219478738, 82.41426611796982, 81.70096021947874, 79.83539094650206, 82.1124828532236, 82.88065843621399, 80.16460905349794, 83.75857338820302, 85.37722908093278, 85.02057613168725, 81.04252400548697, 84.80109739368999, 85.56927297668038, 84.6639231824417, 85.26748971193416, 83.86831275720165, 83.78600823045268, 84.60905349794238, 85.15775034293553, 85.87105624142661, 84.80109739368999, 85.6241426611797, 85.0480109739369, 87.02331961591221, 87.46227709190673, 85.67901234567901, 87.10562414266118, 84.71879286694102, 86.69410150891632, 86.77640603566529, 85.98079561042525, 85.98079561042525, 86.47462277091907, 86.96844993141289, 87.05075445816186, 86.55692729766804, 86.3923182441701, 86.52949245541838, 86.0082304526749, 86.47462277091907, 86.55692729766804, 86.74897119341564]\n"
     ]
    }
   ],
   "source": [
    "print(f\"\\n\\nTraining Losses:\\n\\n\")\n",
    "print(train_losses)\n",
    "\n",
    "print(f\"\\n\\nValidation Losses:\\n\\n\")\n",
    "print(val_losses)\n",
    "\n",
    "print(f\"\\n\\nTraining Accuracies:\\n\\n\")\n",
    "print(train_accuracies)\n",
    "\n",
    "print(f\"\\n\\nValidation Accuracies:\\n\\n\")\n",
    "print(val_accuracies)"
   ]
  },
  {
   "cell_type": "markdown",
   "id": "388b1d29-42a4-4462-ba63-1b9c8b286fa2",
   "metadata": {},
   "source": [
    "# Loss & Accuracy Curve"
   ]
  },
  {
   "cell_type": "code",
   "execution_count": 20,
   "id": "5f417297-136d-4603-88d0-f3335b26df99",
   "metadata": {},
   "outputs": [
    {
     "data": {
      "image/png": "[encoded data removed]",
      "text/plain": [
       "<Figure size 1600x500 with 2 Axes>"
      ]
     },
     "metadata": {},
     "output_type": "display_data"
    }
   ],
   "source": [
    "import matplotlib.pyplot as plt\n",
    "\n",
    "# ✅ Create side-by-side subplots\n",
    "fig, axes = plt.subplots(1, 2, figsize=(16, 5))\n",
    "\n",
    "# 📉 Loss Curve\n",
    "axes[0].plot(train_losses, label='Training')\n",
    "axes[0].plot(val_losses, label='Validation')\n",
    "axes[0].set_title('Model Loss')\n",
    "axes[0].set_xlabel('Epoch')\n",
    "axes[0].set_ylabel('Loss')\n",
    "axes[0].legend()\n",
    "axes[0].grid(False)\n",
    "\n",
    "# 📈 Accuracy Curve\n",
    "axes[1].plot(train_accuracies, label='Training')\n",
    "axes[1].plot(val_accuracies, label='Validation')\n",
    "axes[1].set_title('Model Accuracy')\n",
    "axes[1].set_xlabel('Epoch')\n",
    "axes[1].set_ylabel('Accuracy (%)')\n",
    "axes[1].legend()\n",
    "axes[1].grid(False)\n",
    "\n",
    "plt.tight_layout()\n",
    "plt.show()\n"
   ]
  },
  {
   "cell_type": "markdown",
   "id": "499071bb-2f2d-4020-999c-3aae2c6fb9a6",
   "metadata": {},
   "source": [
    "# Test Script"
   ]
  },
  {
   "cell_type": "code",
   "execution_count": 21,
   "id": "ecca070f-80c8-408c-ad31-7fa9f01ef960",
   "metadata": {},
   "outputs": [
    {
     "name": "stdout",
     "output_type": "stream",
     "text": [
      "Video-level Accuracy: 87.50%\n"
     ]
    }
   ],
   "source": [
    "from collections import defaultdict\n",
    "import torch.nn.functional as F\n",
    "import os\n",
    "import re\n",
    "def extract_video_name(frame_path):\n",
    "    filename = os.path.basename(frame_path)\n",
    "    \n",
    "    if \"manipulated\" in filename:\n",
    "        number_part = re.search(r'manipulated_(\\d+)', filename)\n",
    "        if number_part:\n",
    "            return f\"{number_part.group(1).zfill(3)}_manipulated\"\n",
    "    elif \"real\" in filename:\n",
    "        number_part = re.search(r'real_(\\d+)', filename)\n",
    "        if number_part:\n",
    "            return f\"{number_part.group(1).zfill(3)}_real\"\n",
    "    \n",
    "    return \"000_unknown\"\n",
    "\n",
    "test_paths, test_labels = load_image_paths_and_labels(dataset_dir_test)\n",
    "\n",
    "# Create dataset and loader\n",
    "test_ds = CustomImageDataset(test_paths, test_labels, transform=val_transform)\n",
    "test_loader = DataLoader(test_ds, batch_size=BATCH_SIZE, shuffle=False, num_workers=0)\n",
    "\n",
    "# Load model\n",
    "model = timm.create_model(\"efficientnet_b3\", pretrained=True, num_classes=2)\n",
    "model.load_state_dict(torch.load(\"best_model_efficientnet_b3.pth\"))\n",
    "model = model.to(DEVICE)\n",
    "model.eval()\n",
    "\n",
    "video_preds = defaultdict(list)\n",
    "video_labels = {}\n",
    "\n",
    "with torch.no_grad():\n",
    "    idx = 0  # global index to track current frame\n",
    "    for x, y in test_loader:\n",
    "        x, y = x.to(DEVICE), y.to(DEVICE)\n",
    "        outputs = model(x)\n",
    "        probs = F.softmax(outputs, dim=1)[:, 1]  # class \"real\" probability\n",
    "\n",
    "        batch_size = x.size(0)\n",
    "        for i in range(batch_size):\n",
    "            frame_path = test_ds.paths[idx]\n",
    "            video_id = extract_video_name(frame_path)\n",
    "\n",
    "            video_preds[video_id].append(probs[i].item())\n",
    "            video_labels[video_id] = y[i].item()\n",
    "\n",
    "            idx += 1  # move to next frame\n",
    "\n",
    "# Video-level accuracy\n",
    "correct = 0\n",
    "total = 0\n",
    "\n",
    "for video_id, probs in video_preds.items():\n",
    "    avg_prob = sum(probs) / len(probs)\n",
    "    pred_label = 1 if avg_prob >= 0.5 else 0\n",
    "    true_label = video_labels[video_id]\n",
    "\n",
    "    if pred_label == true_label:\n",
    "        correct += 1\n",
    "    total += 1\n",
    "\n",
    "video_accuracy = 100 * correct / total\n",
    "print(f\"Video-level Accuracy: {video_accuracy:.2f}%\")\n"
   ]
  },
  {
   "cell_type": "markdown",
   "id": "4c1cec9c-264d-41ea-b55a-90555f5a8f6d",
   "metadata": {},
   "source": [
    "# Classification Report"
   ]
  },
  {
   "cell_type": "code",
   "execution_count": 22,
   "id": "9bee4ccd-2101-4fee-b84e-32ff3b1303dd",
   "metadata": {},
   "outputs": [
    {
     "name": "stdout",
     "output_type": "stream",
     "text": [
      "📄 Classification Report for Test::\n",
      "\n",
      "              precision    recall  f1-score   support\n",
      "\n",
      " Manipulated     0.8713    0.8800    0.8756       100\n",
      "        Real     0.8788    0.8700    0.8744       100\n",
      "\n",
      "    accuracy                         0.8750       200\n",
      "   macro avg     0.8750    0.8750    0.8750       200\n",
      "weighted avg     0.8750    0.8750    0.8750       200\n",
      "\n"
     ]
    }
   ],
   "source": [
    "from sklearn.metrics import classification_report\n",
    "\n",
    "# Prepare video-level true and predicted labels\n",
    "y_true = []\n",
    "y_pred = []\n",
    "\n",
    "for video_id, probs in video_preds.items():\n",
    "    avg_prob = sum(probs) / len(probs)\n",
    "    pred_label = 1 if avg_prob >= 0.5 else 0\n",
    "    true_label = video_labels[video_id]\n",
    "\n",
    "    y_true.append(true_label)\n",
    "    y_pred.append(pred_label)\n",
    "\n",
    "# Classification report\n",
    "target_names = ['Manipulated', 'Real']  # 0 = manipulated, 1 = real\n",
    "report = classification_report(y_true, y_pred, target_names=target_names, digits=4)\n",
    "print(\"📄 Classification Report for Test::\\n\")\n",
    "print(report)\n"
   ]
  },
  {
   "cell_type": "markdown",
   "id": "ba2d3982-e7da-4358-adfb-ac17c6924e55",
   "metadata": {},
   "source": [
    "# Confusion Matrix"
   ]
  },
  {
   "cell_type": "code",
   "execution_count": 23,
   "id": "18fbb196-138b-4476-b8c4-6b37202f30bc",
   "metadata": {},
   "outputs": [
    {
     "data": {
      "image/png": "[encoded data removed]",
      "text/plain": [
       "<Figure size 600x500 with 2 Axes>"
      ]
     },
     "metadata": {},
     "output_type": "display_data"
    }
   ],
   "source": [
    "from sklearn.metrics import confusion_matrix, ConfusionMatrixDisplay\n",
    "import matplotlib.pyplot as plt\n",
    "\n",
    "# Gather all ground truths and predictions\n",
    "y_true = []\n",
    "y_pred = []\n",
    "\n",
    "for video_id, probs in video_preds.items():\n",
    "    avg_prob = sum(probs) / len(probs)\n",
    "    pred_label = 1 if avg_prob >= 0.5 else 0\n",
    "    true_label = video_labels[video_id]\n",
    "\n",
    "    y_true.append(true_label)\n",
    "    y_pred.append(pred_label)\n",
    "\n",
    "# Compute confusion matrix\n",
    "cm = confusion_matrix(y_true, y_pred)\n",
    "disp = ConfusionMatrixDisplay(confusion_matrix=cm, display_labels=[\"Manipulated\", \"Real\"])\n",
    "\n",
    "# Plot the confusion matrix\n",
    "fig, ax = plt.subplots(figsize=(6, 5))\n",
    "disp.plot(cmap='Blues', values_format='d', ax=ax)\n",
    "ax.set_title(\"Confusion Matrix: Test\")\n",
    "plt.xticks(rotation=45)\n",
    "plt.tight_layout()\n",
    "plt.show()\n"
   ]
  },
  {
   "cell_type": "markdown",
   "id": "cd25677f-a671-4e39-8aef-289fb49b4a08",
   "metadata": {},
   "source": [
    "# ROC Curve"
   ]
  },
  {
   "cell_type": "code",
   "execution_count": 24,
   "id": "f53bd5d0-52f0-447b-b726-9e227771658a",
   "metadata": {},
   "outputs": [
    {
     "data": {
      "image/png": "[encoded data removed]",
      "text/plain": [
       "<Figure size 600x500 with 1 Axes>"
      ]
     },
     "metadata": {},
     "output_type": "display_data"
    }
   ],
   "source": [
    "from sklearn.metrics import roc_curve, auc\n",
    "import matplotlib.pyplot as plt\n",
    "\n",
    "# Collect true labels and predicted probabilities\n",
    "y_true = []\n",
    "y_score = []\n",
    "\n",
    "for video_id, probs in video_preds.items():\n",
    "    avg_prob = sum(probs) / len(probs)  # probability of class \"real\"\n",
    "    true_label = video_labels[video_id]\n",
    "\n",
    "    y_true.append(true_label)\n",
    "    y_score.append(avg_prob)  # keep raw probability for ROC\n",
    "\n",
    "# Compute ROC curve and AUC\n",
    "fpr, tpr, thresholds = roc_curve(y_true, y_score)\n",
    "roc_auc = auc(fpr, tpr)\n",
    "\n",
    "# Plot ROC curve\n",
    "plt.figure(figsize=(6, 5))\n",
    "plt.plot(fpr, tpr, color='darkorange', lw=2, label=f'ROC curve (AUC = {roc_auc:.2f})')\n",
    "plt.plot([0, 1], [0, 1], color='navy', lw=2, linestyle='--')\n",
    "plt.xlim([0.0, 1.0])\n",
    "plt.ylim([0.0, 1.05])\n",
    "plt.xlabel('False Positive Rate')\n",
    "plt.ylabel('True Positive Rate')\n",
    "plt.title('ROC Curve: Test')\n",
    "plt.legend(loc=\"lower right\")\n",
    "plt.grid(True)\n",
    "plt.tight_layout()\n",
    "plt.show()\n"
   ]
  },
  {
   "cell_type": "code",
   "execution_count": null,
   "id": "a01c1bd9-b69f-4d26-902d-5b0646cd4e97",
   "metadata": {},
   "outputs": [],
   "source": []
  }
 ],
 "metadata": {
  "kernelspec": {
   "display_name": "Python 3 (ipykernel)",
   "language": "python",
   "name": "python3"
  },
  "language_info": {
   "codemirror_mode": {
    "name": "ipython",
    "version": 3
   },
   "file_extension": ".py",
   "mimetype": "text/x-python",
   "name": "python",
   "nbconvert_exporter": "python",
   "pygments_lexer": "ipython3",
   "version": "3.13.5"
  }
 },
 "nbformat": 4,
 "nbformat_minor": 5
}
