{
 "cells": [
  {
   "cell_type": "code",
   "execution_count": 1,
   "id": "b12d8e61-0e57-4642-8cc6-c69488c13939",
   "metadata": {},
   "outputs": [
    {
     "name": "stdout",
     "output_type": "stream",
     "text": [
      "Note: you may need to restart the kernel to use updated packages.\n"
     ]
    }
   ],
   "source": [
    "pip install torch>=1.13.0 torchvision>=0.14.0 timm>=0.6.5 opencv-python pillow scikit-learn numpy matplotlib"
   ]
  },
  {
   "cell_type": "markdown",
   "id": "bf9a0749-1715-4669-b658-fcd3f2e334a4",
   "metadata": {},
   "source": [
    "# Import LIbraries"
   ]
  },
  {
   "cell_type": "code",
   "execution_count": 2,
   "id": "22a702e8-eeba-4f7f-babe-22d8cc896b7d",
   "metadata": {},
   "outputs": [],
   "source": [
    "import os\n",
    "import cv2\n",
    "import torch\n",
    "import torch.nn as nn\n",
    "import torch.optim as optim\n",
    "from torch.utils.data import DataLoader, random_split\n",
    "from torchvision import datasets, transforms\n",
    "import timm\n",
    "from PIL import Image\n",
    "from pathlib import Path"
   ]
  },
  {
   "cell_type": "markdown",
   "id": "654abbed-304e-44fa-a64e-83ba2a8353d3",
   "metadata": {},
   "source": [
    "# Introduce Dataset\n"
   ]
  },
  {
   "cell_type": "code",
   "execution_count": 3,
   "id": "50899cf5-84c6-4111-91d7-7ecd93374da5",
   "metadata": {},
   "outputs": [],
   "source": [
    "real_videos_dir = r\"F:\\deepfake_workstation\\dataset\\real\"\n",
    "manipulated_videos_dir = r\"F:\\deepfake_workstation\\dataset\\manipulated\""
   ]
  },
  {
   "cell_type": "markdown",
   "id": "e5ae224c-815e-4f1e-acdd-a757f93e672a",
   "metadata": {},
   "source": [
    "# Method to check video paths"
   ]
  },
  {
   "cell_type": "code",
   "execution_count": 4,
   "id": "dcbd971c-b23d-4926-9e0b-e5312f902d43",
   "metadata": {},
   "outputs": [],
   "source": [
    "\n",
    "def count_files_if_exists(real_path, manipulated_path):\n",
    "    for label, path in {'Real': real_path, 'Manipulated': manipulated_path}.items():\n",
    "        if not os.path.exists(path):\n",
    "            print(f\"Error: {label} path does not exist -> {path}\")\n",
    "            return\n",
    "        print(f\"{label} files: {len([f for f in os.listdir(path) if os.path.isfile(os.path.join(path, f))])}\")\n"
   ]
  },
  {
   "cell_type": "markdown",
   "id": "6e6e674d-4a13-4ab8-9cb4-122230c8d5ed",
   "metadata": {},
   "source": [
    "# Checking video paths "
   ]
  },
  {
   "cell_type": "code",
   "execution_count": 5,
   "id": "9ee13c51-f478-4294-87bd-8bb0a3dfc76d",
   "metadata": {},
   "outputs": [
    {
     "name": "stdout",
     "output_type": "stream",
     "text": [
      "Real files: 1000\n",
      "Manipulated files: 1000\n"
     ]
    }
   ],
   "source": [
    "count_files_if_exists(real_videos_dir, manipulated_videos_dir)"
   ]
  },
  {
   "cell_type": "markdown",
   "id": "0c2e5266-c42b-4a4a-8d23-4e54f8bd6d62",
   "metadata": {},
   "source": [
    "# Output paths"
   ]
  },
  {
   "cell_type": "code",
   "execution_count": 6,
   "id": "acd88571-3975-4530-aefb-55dfc70fa595",
   "metadata": {},
   "outputs": [],
   "source": [
    "output_real_dir_train =  r\"F:\\deepfake_workstation\\frames\\train\\real\"\n",
    "output_real_dir_validation =  r\"F:\\deepfake_workstation\\frames\\validation\\real\"\n",
    "output_real_dir_test =  r\"F:\\deepfake_workstation\\frames\\test\\real\"\n",
    "output_manipulated_dir_train =  r\"F:\\deepfake_workstation\\frames\\train\\manipulated\"\n",
    "output_manipulated_dir_validation =  r\"F:\\deepfake_workstation\\frames\\validation\\manipulated\"\n",
    "output_manipulated_dir_test =  r\"F:\\deepfake_workstation\\frames\\test\\manipulated\"\n",
    "\n",
    "\n",
    "def ensure_dirs_exist(*dirs):\n",
    "    [os.makedirs(d, exist_ok=True) for d in dirs]\n",
    "\n",
    "ensure_dirs_exist(\n",
    "    output_real_dir_train,\n",
    "    output_real_dir_validation,\n",
    "    output_real_dir_test,\n",
    "    output_manipulated_dir_train,\n",
    "    output_manipulated_dir_validation,\n",
    "    output_manipulated_dir_test\n",
    ")"
   ]
  },
  {
   "cell_type": "markdown",
   "id": "b675dded-f077-439e-aabb-934fb4a8ef7e",
   "metadata": {},
   "source": [
    "# Frame extraction method"
   ]
  },
  {
   "cell_type": "code",
   "execution_count": 7,
   "id": "8cc33109-cfcc-44c1-a287-0d6e87536c84",
   "metadata": {},
   "outputs": [],
   "source": [
    "def extract_frames_from_videos(videos_dir, output_dir, label, skip=0, max_videos=1000):\n",
    "    video_files = [f for f in os.listdir(videos_dir) if f.endswith('.mp4')]\n",
    "    video_files = video_files[skip:skip + max_videos]  # Apply skip and limit\n",
    "\n",
    "    for video_file in video_files:\n",
    "        video_path = os.path.join(videos_dir, video_file)\n",
    "        cap = cv2.VideoCapture(video_path)\n",
    "        frame_count = 0\n",
    "        success, image = cap.read()\n",
    "\n",
    "        while success:\n",
    "            fps = int(cap.get(cv2.CAP_PROP_FPS)) or 1  # fallback to 1 if FPS is 0\n",
    "            if frame_count % fps == 0:\n",
    "                frame_filename = f\"{label}_{video_file}_frame{frame_count // fps}.jpg\"\n",
    "                frame_path = os.path.join(output_dir, frame_filename)\n",
    "                cv2.imwrite(frame_path, image)\n",
    "            success, image = cap.read()\n",
    "            frame_count += 1\n",
    "\n",
    "        cap.release()"
   ]
  },
  {
   "cell_type": "markdown",
   "id": "0863814c-1d92-4fae-b61f-adbe971d2b35",
   "metadata": {},
   "source": [
    "# Extract train videos"
   ]
  },
  {
   "cell_type": "code",
   "execution_count": 8,
   "id": "6ea34119-eef6-4eb4-9fb3-3a800e828799",
   "metadata": {},
   "outputs": [
    {
     "name": "stdout",
     "output_type": "stream",
     "text": [
      "Extracting real videos.........\n",
      "Extraction completed\n",
      "Extracting manipulated videos.........\n",
      "Extraction completed\n"
     ]
    }
   ],
   "source": [
    "print(\"Extracting real videos.........\")\n",
    "# extract_frames_from_videos(real_videos_dir, output_real_dir_train, \"real\",skip=0, max_videos=800) \n",
    "print(\"Extraction completed\")\n",
    "print(\"Extracting manipulated videos.........\")\n",
    "# extract_frames_from_videos(manipulated_videos_dir, output_manipulated_dir_train, \"manipulated\",skip=0, max_videos=800)\n",
    "print(\"Extraction completed\")"
   ]
  },
  {
   "cell_type": "markdown",
   "id": "dfac82b0-7bf6-4163-bd6b-425fe518a11d",
   "metadata": {},
   "source": [
    "# Extract validation videos"
   ]
  },
  {
   "cell_type": "code",
   "execution_count": 9,
   "id": "04cc6866-ceca-44c8-a528-3556062b7215",
   "metadata": {},
   "outputs": [
    {
     "name": "stdout",
     "output_type": "stream",
     "text": [
      "Extracting real videos.........\n",
      "Extraction completed\n",
      "Extracting manipulated videos.........\n",
      "Extraction completed\n"
     ]
    }
   ],
   "source": [
    "print(\"Extracting real videos.........\")\n",
    "# extract_frames_from_videos(real_videos_dir, output_real_dir_validation, \"real\",skip=800, max_videos=100)\n",
    "print(\"Extraction completed\")\n",
    "print(\"Extracting manipulated videos.........\")\n",
    "# extract_frames_from_videos(manipulated_videos_dir, output_manipulated_dir_validation, \"manipulated\",skip=800, max_videos=100)\n",
    "print(\"Extraction completed\")"
   ]
  },
  {
   "cell_type": "markdown",
   "id": "28438a4a-7a3b-41f2-9455-4acb8c7cd221",
   "metadata": {},
   "source": [
    "# Extract test videos"
   ]
  },
  {
   "cell_type": "code",
   "execution_count": 10,
   "id": "89cb7719-9931-4217-a473-cea842013e86",
   "metadata": {},
   "outputs": [
    {
     "name": "stdout",
     "output_type": "stream",
     "text": [
      "Extracting real videos.........\n",
      "Extraction completed\n",
      "Extracting manipulated videos.........\n",
      "Extraction completed\n"
     ]
    }
   ],
   "source": [
    "print(\"Extracting real videos.........\")\n",
    "# extract_frames_from_videos(real_videos_dir, output_real_dir_test, \"real\",skip=900, max_videos=100)\n",
    "print(\"Extraction completed\")\n",
    "print(\"Extracting manipulated videos.........\")\n",
    "# extract_frames_from_videos(manipulated_videos_dir, output_manipulated_dir_test, \"manipulated\",skip=900, max_videos=100)\n",
    "print(\"Extraction completed\")"
   ]
  },
  {
   "cell_type": "markdown",
   "id": "53956839-2fc2-44ce-ac22-4473019c5e85",
   "metadata": {},
   "source": [
    "# resnet50"
   ]
  },
  {
   "cell_type": "code",
   "execution_count": 11,
   "id": "3db74460-8a60-42f2-8588-f49fad9b7235",
   "metadata": {},
   "outputs": [],
   "source": [
    "%%capture\n",
    "pip install timm"
   ]
  },
  {
   "cell_type": "code",
   "execution_count": 12,
   "id": "76aded61-04d8-49d5-ad99-eadb310af75b",
   "metadata": {},
   "outputs": [],
   "source": [
    "import os\n",
    "import glob\n",
    "import random\n",
    "from PIL import Image\n",
    "import numpy as np\n",
    "from sklearn.model_selection import train_test_split\n",
    "from torchvision import transforms\n",
    "from torch.utils.data import Dataset, DataLoader\n",
    "import torch\n",
    "import torch.nn as nn\n",
    "import torch.optim as optim\n",
    "from timm.data.mixup import Mixup\n",
    "from timm.scheduler import CosineLRScheduler\n",
    "import timm\n",
    "from torchvision.models import vgg19\n"
   ]
  },
  {
   "cell_type": "code",
   "execution_count": 13,
   "id": "15d9b76b-5bd9-4e95-90e3-33683c994fa0",
   "metadata": {},
   "outputs": [
    {
     "name": "stdout",
     "output_type": "stream",
     "text": [
      "DEVICE:  cuda\n"
     ]
    }
   ],
   "source": [
    "BATCH_SIZE = 32\n",
    "EPOCHS = 50\n",
    "LR = 3e-4\n",
    "IMG_SIZE = 128\n",
    "DEVICE = torch.device(\"cuda\" if torch.cuda.is_available() else \"cpu\")\n",
    "print('DEVICE: ', DEVICE)\n",
    "dataset_dir_train =   r\"F:\\deepfake_workstation\\frames\\train\"\n",
    "dataset_dir_validation =   r\"F:\\deepfake_workstation\\frames\\validation\"\n",
    "dataset_dir_test =   r\"F:\\deepfake_workstation\\frames\\test\"\n",
    "class_to_idx = {'manipulated': 0, 'real': 1}\n"
   ]
  },
  {
   "cell_type": "code",
   "execution_count": 14,
   "id": "f17dc48a-65d2-4b8e-8c87-1aaf59561025",
   "metadata": {},
   "outputs": [],
   "source": [
    "train_transform = transforms.Compose([\n",
    "    transforms.RandomResizedCrop(IMG_SIZE, scale=(0.8, 1.0)),\n",
    "    transforms.RandomHorizontalFlip(),\n",
    "    transforms.RandomRotation(15),\n",
    "    transforms.ColorJitter(0.2, 0.2, 0.2, 0.1),\n",
    "    transforms.ToTensor(),\n",
    "    transforms.Normalize([0.5]*3, [0.5]*3)\n",
    "])\n",
    "\n",
    "val_transform = transforms.Compose([\n",
    "    transforms.Resize((IMG_SIZE, IMG_SIZE)),\n",
    "    transforms.ToTensor(),\n",
    "    transforms.Normalize([0.5]*3, [0.5]*3),\n",
    "])"
   ]
  },
  {
   "cell_type": "code",
   "execution_count": 15,
   "id": "fcf106e1-3135-4de8-bf11-9fb351e4bee7",
   "metadata": {},
   "outputs": [],
   "source": [
    "class CustomImageDataset(Dataset):\n",
    "    def __init__(self, paths, labels, transform=None):\n",
    "        self.paths = paths\n",
    "        self.labels = labels\n",
    "        self.transform = transform\n",
    "\n",
    "    def __len__(self):\n",
    "        return len(self.paths)\n",
    "\n",
    "    def __getitem__(self, idx):\n",
    "        img = Image.open(self.paths[idx]).convert(\"RGB\")\n",
    "        if self.transform:\n",
    "            img = self.transform(img)\n",
    "        return img, self.labels[idx]\n",
    "\n"
   ]
  },
  {
   "cell_type": "code",
   "execution_count": 16,
   "id": "adf1c721-a647-4c86-9c94-f35733950ce8",
   "metadata": {},
   "outputs": [],
   "source": [
    "def load_image_paths_and_labels(dataset_dir):\n",
    "    image_paths, labels = [], []\n",
    "    class_to_idx = {cls: idx for idx, cls in enumerate(os.listdir(dataset_dir)) if os.path.isdir(os.path.join(dataset_dir, cls))}\n",
    "\n",
    "    for cls, idx in class_to_idx.items():\n",
    "        paths = glob.glob(os.path.join(dataset_dir, cls, \"*.*\"))\n",
    "        for path in paths:\n",
    "            if path.lower().endswith(('.jpg', '.png', '.jpeg', '.webp', '.tiff')):\n",
    "                image_paths.append(path)\n",
    "                labels.append(idx)\n",
    "    \n",
    "    return image_paths, labels\n",
    "\n",
    "\n"
   ]
  },
  {
   "cell_type": "code",
   "execution_count": 17,
   "id": "6132874d-1323-4309-94c8-ec62c63e3bb8",
   "metadata": {},
   "outputs": [],
   "source": [
    "train_paths, train_labels = load_image_paths_and_labels(dataset_dir_train)\n",
    "val_paths, val_labels = load_image_paths_and_labels(dataset_dir_validation)\n",
    "\n",
    "train_ds = CustomImageDataset(train_paths, train_labels, transform=train_transform)\n",
    "val_ds = CustomImageDataset(val_paths, val_labels, transform=val_transform)\n",
    "\n",
    "train_loader = DataLoader(train_ds, batch_size=BATCH_SIZE, shuffle=True, num_workers=0, drop_last=True)\n",
    "val_loader = DataLoader(val_ds, batch_size=BATCH_SIZE, shuffle=False, num_workers=0)"
   ]
  },
  {
   "cell_type": "code",
   "execution_count": 18,
   "id": "d2ab8dca-331f-476f-b6ad-1ae8bcd782ea",
   "metadata": {},
   "outputs": [
    {
     "name": "stdout",
     "output_type": "stream",
     "text": [
      "\n",
      "\n",
      "\n",
      "🏋️ Training Started......\n",
      "[Epoch 1] Train Loss: 0.6562 | Train Acc: 62.46%\n",
      "[Epoch 1] Validation Loss: 0.5747 | Validation Acc: 71.33%\n",
      "[Epoch 2] Train Loss: 0.5839 | Train Acc: 75.61%\n",
      "[Epoch 2] Validation Loss: 0.5344 | Validation Acc: 77.01%\n",
      "[Epoch 3] Train Loss: 0.5490 | Train Acc: 80.26%\n",
      "[Epoch 3] Validation Loss: 0.5081 | Validation Acc: 79.01%\n",
      "[Epoch 4] Train Loss: 0.5296 | Train Acc: 82.92%\n",
      "[Epoch 4] Validation Loss: 0.5230 | Validation Acc: 77.56%\n",
      "[Epoch 5] Train Loss: 0.5200 | Train Acc: 83.76%\n",
      "[Epoch 5] Validation Loss: 0.4948 | Validation Acc: 80.14%\n",
      "[Epoch 6] Train Loss: 0.5139 | Train Acc: 84.82%\n",
      "[Epoch 6] Validation Loss: 0.4756 | Validation Acc: 83.65%\n",
      "[Epoch 7] Train Loss: 0.4997 | Train Acc: 85.75%\n",
      "[Epoch 7] Validation Loss: 0.4655 | Validation Acc: 83.13%\n",
      "[Epoch 8] Train Loss: 0.4968 | Train Acc: 86.68%\n",
      "[Epoch 8] Validation Loss: 0.4588 | Validation Acc: 83.54%\n",
      "[Epoch 9] Train Loss: 0.4887 | Train Acc: 87.62%\n",
      "[Epoch 9] Validation Loss: 0.4589 | Validation Acc: 83.95%\n",
      "[Epoch 10] Train Loss: 0.4922 | Train Acc: 87.40%\n",
      "[Epoch 10] Validation Loss: 0.4597 | Validation Acc: 83.70%\n",
      "[Epoch 11] Train Loss: 0.4814 | Train Acc: 88.47%\n",
      "[Epoch 11] Validation Loss: 0.4402 | Validation Acc: 85.82%\n",
      "[Epoch 12] Train Loss: 0.4856 | Train Acc: 88.25%\n",
      "[Epoch 12] Validation Loss: 0.4495 | Validation Acc: 85.24%\n",
      "[Epoch 13] Train Loss: 0.4825 | Train Acc: 88.39%\n",
      "[Epoch 13] Validation Loss: 0.4736 | Validation Acc: 82.44%\n",
      "[Epoch 14] Train Loss: 0.4776 | Train Acc: 89.37%\n",
      "[Epoch 14] Validation Loss: 0.4386 | Validation Acc: 84.55%\n",
      "[Epoch 15] Train Loss: 0.4758 | Train Acc: 89.34%\n",
      "[Epoch 15] Validation Loss: 0.4450 | Validation Acc: 85.84%\n",
      "[Epoch 16] Train Loss: 0.4736 | Train Acc: 89.16%\n",
      "[Epoch 16] Validation Loss: 0.4595 | Validation Acc: 83.43%\n",
      "[Epoch 17] Train Loss: 0.4695 | Train Acc: 89.43%\n",
      "[Epoch 17] Validation Loss: 0.4560 | Validation Acc: 84.66%\n",
      "[Epoch 18] Train Loss: 0.4676 | Train Acc: 89.81%\n",
      "[Epoch 18] Validation Loss: 0.4389 | Validation Acc: 84.61%\n",
      "[Epoch 19] Train Loss: 0.4656 | Train Acc: 90.39%\n",
      "[Epoch 19] Validation Loss: 0.4399 | Validation Acc: 85.60%\n",
      "[Epoch 20] Train Loss: 0.4747 | Train Acc: 89.54%\n",
      "[Epoch 20] Validation Loss: 0.4468 | Validation Acc: 85.60%\n",
      "[Epoch 21] Train Loss: 0.4698 | Train Acc: 89.55%\n",
      "[Epoch 21] Validation Loss: 0.4560 | Validation Acc: 84.58%\n",
      "[Epoch 22] Train Loss: 0.4667 | Train Acc: 90.62%\n",
      "[Epoch 22] Validation Loss: 0.4581 | Validation Acc: 84.39%\n",
      "[Epoch 23] Train Loss: 0.4572 | Train Acc: 91.31%\n",
      "[Epoch 23] Validation Loss: 0.4787 | Validation Acc: 83.51%\n",
      "[Epoch 24] Train Loss: 0.4641 | Train Acc: 90.35%\n",
      "[Epoch 24] Validation Loss: 0.4590 | Validation Acc: 84.94%\n",
      "[Epoch 25] Train Loss: 0.4618 | Train Acc: 91.11%\n",
      "[Epoch 25] Validation Loss: 0.4355 | Validation Acc: 85.60%\n",
      "[Epoch 26] Train Loss: 0.4618 | Train Acc: 90.92%\n",
      "[Epoch 26] Validation Loss: 0.4400 | Validation Acc: 85.32%\n",
      "[Epoch 27] Train Loss: 0.4619 | Train Acc: 90.86%\n",
      "[Epoch 27] Validation Loss: 0.4347 | Validation Acc: 86.78%\n",
      "[Epoch 28] Train Loss: 0.4582 | Train Acc: 91.28%\n",
      "[Epoch 28] Validation Loss: 0.4406 | Validation Acc: 85.32%\n",
      "[Epoch 29] Train Loss: 0.4609 | Train Acc: 90.94%\n",
      "[Epoch 29] Validation Loss: 0.4292 | Validation Acc: 86.50%\n",
      "[Epoch 30] Train Loss: 0.4612 | Train Acc: 90.87%\n",
      "[Epoch 30] Validation Loss: 0.4460 | Validation Acc: 87.00%\n",
      "[Epoch 31] Train Loss: 0.4594 | Train Acc: 91.64%\n",
      "[Epoch 31] Validation Loss: 0.4350 | Validation Acc: 85.76%\n",
      "[Epoch 32] Train Loss: 0.4613 | Train Acc: 91.17%\n",
      "[Epoch 32] Validation Loss: 0.4327 | Validation Acc: 86.20%\n",
      "[Epoch 33] Train Loss: 0.4597 | Train Acc: 91.80%\n",
      "[Epoch 33] Validation Loss: 0.4312 | Validation Acc: 86.26%\n",
      "[Epoch 34] Train Loss: 0.4516 | Train Acc: 91.78%\n",
      "[Epoch 34] Validation Loss: 0.4184 | Validation Acc: 87.11%\n",
      "[Epoch 35] Train Loss: 0.4555 | Train Acc: 91.06%\n",
      "[Epoch 35] Validation Loss: 0.4256 | Validation Acc: 87.13%\n",
      "[Epoch 36] Train Loss: 0.4567 | Train Acc: 91.48%\n",
      "[Epoch 36] Validation Loss: 0.4371 | Validation Acc: 85.82%\n",
      "[Epoch 37] Train Loss: 0.4584 | Train Acc: 91.83%\n",
      "[Epoch 37] Validation Loss: 0.4305 | Validation Acc: 86.56%\n",
      "[Epoch 38] Train Loss: 0.4535 | Train Acc: 92.00%\n",
      "[Epoch 38] Validation Loss: 0.4330 | Validation Acc: 87.43%\n",
      "[Epoch 39] Train Loss: 0.4503 | Train Acc: 92.74%\n",
      "[Epoch 39] Validation Loss: 0.4237 | Validation Acc: 86.15%\n",
      "[Epoch 40] Train Loss: 0.4531 | Train Acc: 92.17%\n",
      "[Epoch 40] Validation Loss: 0.4233 | Validation Acc: 86.91%\n",
      "[Epoch 41] Train Loss: 0.4567 | Train Acc: 91.71%\n",
      "[Epoch 41] Validation Loss: 0.4219 | Validation Acc: 86.86%\n",
      "[Epoch 42] Train Loss: 0.4500 | Train Acc: 92.33%\n",
      "[Epoch 42] Validation Loss: 0.4170 | Validation Acc: 87.46%\n",
      "[Epoch 43] Train Loss: 0.4499 | Train Acc: 92.81%\n",
      "[Epoch 43] Validation Loss: 0.4275 | Validation Acc: 86.91%\n",
      "[Epoch 44] Train Loss: 0.4537 | Train Acc: 91.92%\n",
      "[Epoch 44] Validation Loss: 0.4443 | Validation Acc: 86.86%\n",
      "[Epoch 45] Train Loss: 0.4552 | Train Acc: 91.69%\n",
      "[Epoch 45] Validation Loss: 0.4235 | Validation Acc: 86.94%\n",
      "[Epoch 46] Train Loss: 0.4481 | Train Acc: 92.59%\n",
      "[Epoch 46] Validation Loss: 0.4252 | Validation Acc: 86.97%\n",
      "[Epoch 47] Train Loss: 0.4556 | Train Acc: 92.05%\n",
      "[Epoch 47] Validation Loss: 0.4403 | Validation Acc: 86.75%\n",
      "[Epoch 48] Train Loss: 0.4488 | Train Acc: 92.48%\n",
      "[Epoch 48] Validation Loss: 0.4173 | Validation Acc: 87.16%\n",
      "[Epoch 49] Train Loss: 0.4546 | Train Acc: 91.96%\n",
      "[Epoch 49] Validation Loss: 0.4370 | Validation Acc: 86.72%\n",
      "[Epoch 50] Train Loss: 0.4524 | Train Acc: 92.96%\n",
      "[Epoch 50] Validation Loss: 0.4273 | Validation Acc: 87.13%\n",
      "\n",
      "✅ Best Validation Accuracy: 87.46%\n",
      "\n",
      "✅ Best Training Accuracy: 92.96%\n"
     ]
    }
   ],
   "source": [
    "import torch\n",
    "import torch.nn as nn\n",
    "import torch.optim as optim\n",
    "import timm\n",
    "from timm.scheduler import CosineLRScheduler\n",
    "from timm.data.mixup import Mixup\n",
    "import matplotlib.pyplot as plt\n",
    "\n",
    "# 🧠 Model setup\n",
    "model = timm.create_model(\"resnet50\", pretrained=True, num_classes=2)\n",
    "model = model.to(DEVICE)\n",
    "\n",
    "# ⚙️ Loss, optimizer, scheduler\n",
    "criterion = nn.CrossEntropyLoss(label_smoothing=0.1)\n",
    "optimizer = optim.AdamW(model.parameters(), lr=LR, weight_decay=1e-4)\n",
    "scheduler = CosineLRScheduler(optimizer, t_initial=EPOCHS)\n",
    "\n",
    "# 🔀 Mixup/CutMix config\n",
    "mixup_fn = Mixup(\n",
    "    mixup_alpha=0.4,\n",
    "    cutmix_alpha=1.0,\n",
    "    prob=0.8,\n",
    "    switch_prob=0.5,\n",
    "    label_smoothing=0.1,\n",
    "    num_classes=2\n",
    ")\n",
    "\n",
    "# 📊 Tracking variables\n",
    "best_val_acc = 0\n",
    "best_train_acc = 0  \n",
    "train_accuracies = []\n",
    "val_accuracies = []\n",
    "train_losses = []\n",
    "val_losses = []\n",
    "\n",
    "\n",
    "print(f\"\\n\\n\\n🏋️ Training Started......\")\n",
    "\n",
    "# 🏋️ Training loop\n",
    "for epoch in range(EPOCHS):\n",
    "    model.train()\n",
    "    total_loss = 0\n",
    "    correct = 0\n",
    "\n",
    "    for x, y in train_loader:\n",
    "        x, y = x.to(DEVICE), y.to(DEVICE)\n",
    "        x, y = mixup_fn(x, y)\n",
    "        outputs = model(x)\n",
    "        loss = criterion(outputs, y)\n",
    "\n",
    "        optimizer.zero_grad()\n",
    "        loss.backward()\n",
    "        optimizer.step()\n",
    "        total_loss += loss.item()\n",
    "\n",
    "        _, preds = torch.max(outputs, 1)\n",
    "        _, targets = torch.max(y, 1)\n",
    "        correct += (preds == targets).sum().item()\n",
    "\n",
    "    train_acc = 100 * correct / len(train_loader.dataset)\n",
    "    avg_train_loss = total_loss / len(train_loader)\n",
    "    print(f\"[Epoch {epoch+1}] Train Loss: {avg_train_loss:.4f} | Train Acc: {train_acc:.2f}%\")\n",
    "\n",
    "    # ✅ Validation\n",
    "    model.eval()\n",
    "    val_correct = 0\n",
    "    val_loss = 0\n",
    "\n",
    "    with torch.no_grad():\n",
    "        for x, y in val_loader:\n",
    "            x, y = x.to(DEVICE), y.to(DEVICE)\n",
    "            outputs = model(x)\n",
    "            loss = criterion(outputs, y)\n",
    "            val_loss += loss.item()\n",
    "            preds = torch.argmax(outputs, dim=1)\n",
    "            val_correct += (preds == y).sum().item()\n",
    "\n",
    "    val_acc = 100 * val_correct / len(val_loader.dataset)\n",
    "    avg_val_loss = val_loss / len(val_loader)\n",
    "    print(f\"[Epoch {epoch+1}] Validation Loss: {avg_val_loss:.4f} | Validation Acc: {val_acc:.2f}%\")\n",
    "\n",
    "    # ✅ Save history\n",
    "    train_losses.append(avg_train_loss)\n",
    "    train_accuracies.append(train_acc)\n",
    "    val_losses.append(avg_val_loss)\n",
    "    val_accuracies.append(val_acc)\n",
    "\n",
    "    # ✅ Save best model\n",
    "    if val_acc > best_val_acc:\n",
    "        best_val_acc = val_acc\n",
    "        torch.save(model.state_dict(), \"best_model_resnet50.pth\") \n",
    "\n",
    "    scheduler.step(epoch) \n",
    "\n",
    "print(f\"\\n✅ Best Validation Accuracy: {best_val_acc:.2f}%\") \n",
    "best_train_acc = max(train_accuracies)\n",
    "print(f\"\\n✅ Best Training Accuracy: {best_train_acc:.2f}%\")\n"
   ]
  },
  {
   "cell_type": "code",
   "execution_count": 19,
   "id": "dd7688e9-4b51-4f2a-a106-ab43484c57d7",
   "metadata": {},
   "outputs": [
    {
     "name": "stdout",
     "output_type": "stream",
     "text": [
      "\n",
      "\n",
      "Training Losses:\n",
      "\n",
      "\n",
      "[0.6561693327171813, 0.5839431865960972, 0.5489868766976973, 0.5296426875969019, 0.5199930788987458, 0.5139182666508259, 0.49974906088883986, 0.4968041900254081, 0.48869317628964476, 0.49221261161467667, 0.4813950234111935, 0.48556302797524525, 0.4824952179021796, 0.47761114603943294, 0.4757760146885742, 0.4736390612068981, 0.46949567743902837, 0.467613299411756, 0.4655547438212383, 0.47467626352246406, 0.4697898988738472, 0.4666733393453276, 0.4571629386134599, 0.46411225754660346, 0.46179187331547955, 0.46177460936975084, 0.46190938592692954, 0.45817569168016253, 0.46094533325836, 0.4612469254329862, 0.45936600167932823, 0.4612909561873954, 0.45965713118452106, 0.45160685123975386, 0.4555149733284373, 0.45667252337000497, 0.45840224501036814, 0.4535196695798709, 0.4502749154535831, 0.45306249496377543, 0.4567414786160728, 0.4500013349784745, 0.4499474346576404, 0.45371825030311147, 0.45516393916229164, 0.44808519502848754, 0.45563881381303684, 0.4487739770439427, 0.4546340014402268, 0.45239451677833564]\n",
      "\n",
      "\n",
      "Validation Losses:\n",
      "\n",
      "\n",
      "[0.5747077961762747, 0.5343875187008005, 0.5080919064450682, 0.5229676944906252, 0.49482830260929306, 0.47562465045535773, 0.46551450119729626, 0.4588357232380332, 0.45888451212330866, 0.45966594810025735, 0.44021774462440555, 0.44946553597324773, 0.47359463284935865, 0.4386044803418611, 0.4450477147311495, 0.4594770777120925, 0.4559630456200817, 0.4388925528578591, 0.4399021913607915, 0.4468480649224499, 0.456010679142517, 0.4581392786481924, 0.47873796182766293, 0.4590216430655697, 0.4354890132682365, 0.44003333778757797, 0.43472343395676527, 0.4406437730057198, 0.42918347083685693, 0.446045583015994, 0.4350250896654631, 0.4327120984855451, 0.43124052307061983, 0.418371742231804, 0.425559331450546, 0.43713278885473283, 0.4305035265391333, 0.4330325246902934, 0.4237188241983715, 0.42328758250203047, 0.421947165931526, 0.416954451616396, 0.42745035363916767, 0.4442860306354991, 0.42353025470909317, 0.4252329306644306, 0.440283742128757, 0.4172915382343426, 0.43702406762984763, 0.4273012748412919]\n",
      "\n",
      "\n",
      "Training Accuracies:\n",
      "\n",
      "\n",
      "[62.461854742860815, 75.60952105618195, 80.26083325302753, 82.9205614981851, 83.755741865022, 84.818990716649, 85.75375028107031, 86.68208538113134, 87.6200571777328, 87.40162538948316, 88.47129870547043, 88.24965468504064, 88.39420513314703, 89.37393594809033, 89.33860139410876, 89.16192862420095, 89.43496835951302, 89.81079952458964, 90.39221354919533, 89.54418425363785, 89.55382095017828, 90.62028203398542, 91.31412418489609, 90.35045453085348, 91.108541325367, 90.92223185891876, 90.86441167967621, 91.27878963091452, 90.94150525199962, 90.86762391185636, 91.63855963509043, 91.16636150460955, 91.79917124409752, 91.77989785101667, 91.06035784266487, 91.48116025826347, 91.83129356589895, 92.00154187144646, 92.74035527287913, 92.16536571263372, 91.71244097523369, 92.33240178600109, 92.81423661302239, 91.92444829912306, 91.68674311779256, 92.5861681282323, 92.05293758632874, 92.47695223410749, 91.95657062092448, 92.95878706112877]\n",
      "\n",
      "\n",
      "Validation Accuracies:\n",
      "\n",
      "\n",
      "[71.33058984910836, 77.00960219478738, 79.01234567901234, 77.55829903978052, 80.13717421124828, 83.64883401920439, 83.1275720164609, 83.53909465020575, 83.95061728395062, 83.70370370370371, 85.81618655692729, 85.2400548696845, 82.44170096021948, 84.55418381344307, 85.84362139917695, 83.42935528120714, 84.6639231824417, 84.60905349794238, 85.59670781893004, 85.59670781893004, 84.58161865569274, 84.38957475994513, 83.51165980795611, 84.93827160493827, 85.59670781893004, 85.32235939643347, 86.77640603566529, 85.32235939643347, 86.50205761316873, 86.99588477366255, 85.76131687242798, 86.2002743484225, 86.2551440329218, 87.10562414266118, 87.13305898491083, 85.81618655692729, 86.55692729766804, 87.43484224965707, 86.14540466392319, 86.91358024691358, 86.85871056241426, 87.46227709190673, 86.91358024691358, 86.85871056241426, 86.94101508916324, 86.96844993141289, 86.74897119341564, 87.1604938271605, 86.72153635116598, 87.13305898491083]\n"
     ]
    }
   ],
   "source": [
    "print(f\"\\n\\nTraining Losses:\\n\\n\")\n",
    "print(train_losses)\n",
    "\n",
    "print(f\"\\n\\nValidation Losses:\\n\\n\")\n",
    "print(val_losses)\n",
    "\n",
    "print(f\"\\n\\nTraining Accuracies:\\n\\n\")\n",
    "print(train_accuracies)\n",
    "\n",
    "print(f\"\\n\\nValidation Accuracies:\\n\\n\")\n",
    "print(val_accuracies)"
   ]
  },
  {
   "cell_type": "markdown",
   "id": "388b1d29-42a4-4462-ba63-1b9c8b286fa2",
   "metadata": {},
   "source": [
    "# Loss & Accuracy Curve"
   ]
  },
  {
   "cell_type": "code",
   "execution_count": 20,
   "id": "5f417297-136d-4603-88d0-f3335b26df99",
   "metadata": {},
   "outputs": [
    {
     "data": {
      "image/png": "[encoded data removed]",
      "text/plain": [
       "<Figure size 1600x500 with 2 Axes>"
      ]
     },
     "metadata": {},
     "output_type": "display_data"
    }
   ],
   "source": [
    "import matplotlib.pyplot as plt\n",
    "\n",
    "# ✅ Create side-by-side subplots\n",
    "fig, axes = plt.subplots(1, 2, figsize=(16, 5))\n",
    "\n",
    "# 📉 Loss Curve\n",
    "axes[0].plot(train_losses, label='Training')\n",
    "axes[0].plot(val_losses, label='Validation')\n",
    "axes[0].set_title('Model Loss')\n",
    "axes[0].set_xlabel('Epoch')\n",
    "axes[0].set_ylabel('Loss')\n",
    "axes[0].legend()\n",
    "axes[0].grid(False)\n",
    "\n",
    "# 📈 Accuracy Curve\n",
    "axes[1].plot(train_accuracies, label='Training')\n",
    "axes[1].plot(val_accuracies, label='Validation')\n",
    "axes[1].set_title('Model Accuracy')\n",
    "axes[1].set_xlabel('Epoch')\n",
    "axes[1].set_ylabel('Accuracy (%)')\n",
    "axes[1].legend()\n",
    "axes[1].grid(False)\n",
    "\n",
    "plt.tight_layout()\n",
    "plt.show()\n"
   ]
  },
  {
   "cell_type": "markdown",
   "id": "499071bb-2f2d-4020-999c-3aae2c6fb9a6",
   "metadata": {},
   "source": [
    "# Test Script"
   ]
  },
  {
   "cell_type": "code",
   "execution_count": 21,
   "id": "ecca070f-80c8-408c-ad31-7fa9f01ef960",
   "metadata": {},
   "outputs": [
    {
     "name": "stdout",
     "output_type": "stream",
     "text": [
      "Video-level Accuracy: 91.50%\n"
     ]
    }
   ],
   "source": [
    "from collections import defaultdict\n",
    "import torch.nn.functional as F\n",
    "import os\n",
    "import re\n",
    "def extract_video_name(frame_path):\n",
    "    filename = os.path.basename(frame_path)\n",
    "    \n",
    "    if \"manipulated\" in filename:\n",
    "        number_part = re.search(r'manipulated_(\\d+)', filename)\n",
    "        if number_part:\n",
    "            return f\"{number_part.group(1).zfill(3)}_manipulated\"\n",
    "    elif \"real\" in filename:\n",
    "        number_part = re.search(r'real_(\\d+)', filename)\n",
    "        if number_part:\n",
    "            return f\"{number_part.group(1).zfill(3)}_real\"\n",
    "    \n",
    "    return \"000_unknown\"\n",
    "\n",
    "test_paths, test_labels = load_image_paths_and_labels(dataset_dir_test)\n",
    "\n",
    "# Create dataset and loader\n",
    "test_ds = CustomImageDataset(test_paths, test_labels, transform=val_transform)\n",
    "test_loader = DataLoader(test_ds, batch_size=BATCH_SIZE, shuffle=False, num_workers=0)\n",
    "\n",
    "# Load model\n",
    "model = timm.create_model(\"resnet50\", pretrained=True, num_classes=2)\n",
    "model.load_state_dict(torch.load(\"best_model_resnet50.pth\"))\n",
    "model = model.to(DEVICE)\n",
    "model.eval()\n",
    "\n",
    "video_preds = defaultdict(list)\n",
    "video_labels = {}\n",
    "\n",
    "with torch.no_grad():\n",
    "    idx = 0  # global index to track current frame\n",
    "    for x, y in test_loader:\n",
    "        x, y = x.to(DEVICE), y.to(DEVICE)\n",
    "        outputs = model(x)\n",
    "        probs = F.softmax(outputs, dim=1)[:, 1]  # class \"real\" probability\n",
    "\n",
    "        batch_size = x.size(0)\n",
    "        for i in range(batch_size):\n",
    "            frame_path = test_ds.paths[idx]\n",
    "            video_id = extract_video_name(frame_path)\n",
    "\n",
    "            video_preds[video_id].append(probs[i].item())\n",
    "            video_labels[video_id] = y[i].item()\n",
    "\n",
    "            idx += 1  # move to next frame\n",
    "\n",
    "# Video-level accuracy\n",
    "correct = 0\n",
    "total = 0\n",
    "\n",
    "for video_id, probs in video_preds.items():\n",
    "    avg_prob = sum(probs) / len(probs)\n",
    "    pred_label = 1 if avg_prob >= 0.5 else 0\n",
    "    true_label = video_labels[video_id]\n",
    "\n",
    "    if pred_label == true_label:\n",
    "        correct += 1\n",
    "    total += 1\n",
    "\n",
    "video_accuracy = 100 * correct / total\n",
    "print(f\"Video-level Accuracy: {video_accuracy:.2f}%\")\n"
   ]
  },
  {
   "cell_type": "markdown",
   "id": "4c1cec9c-264d-41ea-b55a-90555f5a8f6d",
   "metadata": {},
   "source": [
    "# Classification Report"
   ]
  },
  {
   "cell_type": "code",
   "execution_count": 22,
   "id": "9bee4ccd-2101-4fee-b84e-32ff3b1303dd",
   "metadata": {},
   "outputs": [
    {
     "name": "stdout",
     "output_type": "stream",
     "text": [
      "📄 Classification Report for Test::\n",
      "\n",
      "              precision    recall  f1-score   support\n",
      "\n",
      " Manipulated     0.9368    0.8900    0.9128       100\n",
      "        Real     0.8952    0.9400    0.9171       100\n",
      "\n",
      "    accuracy                         0.9150       200\n",
      "   macro avg     0.9160    0.9150    0.9149       200\n",
      "weighted avg     0.9160    0.9150    0.9149       200\n",
      "\n"
     ]
    }
   ],
   "source": [
    "from sklearn.metrics import classification_report\n",
    "\n",
    "# Prepare video-level true and predicted labels\n",
    "y_true = []\n",
    "y_pred = []\n",
    "\n",
    "for video_id, probs in video_preds.items():\n",
    "    avg_prob = sum(probs) / len(probs)\n",
    "    pred_label = 1 if avg_prob >= 0.5 else 0\n",
    "    true_label = video_labels[video_id]\n",
    "\n",
    "    y_true.append(true_label)\n",
    "    y_pred.append(pred_label)\n",
    "\n",
    "# Classification report\n",
    "target_names = ['Manipulated', 'Real']  # 0 = manipulated, 1 = real\n",
    "report = classification_report(y_true, y_pred, target_names=target_names, digits=4)\n",
    "print(\"📄 Classification Report for Test::\\n\")\n",
    "print(report)\n"
   ]
  },
  {
   "cell_type": "markdown",
   "id": "ba2d3982-e7da-4358-adfb-ac17c6924e55",
   "metadata": {},
   "source": [
    "# Confusion Matrix"
   ]
  },
  {
   "cell_type": "code",
   "execution_count": 23,
   "id": "18fbb196-138b-4476-b8c4-6b37202f30bc",
   "metadata": {},
   "outputs": [
    {
     "data": {
      "image/png": "[encoded data removed]",
      "text/plain": [
       "<Figure size 600x500 with 2 Axes>"
      ]
     },
     "metadata": {},
     "output_type": "display_data"
    }
   ],
   "source": [
    "from sklearn.metrics import confusion_matrix, ConfusionMatrixDisplay\n",
    "import matplotlib.pyplot as plt\n",
    "\n",
    "# Gather all ground truths and predictions\n",
    "y_true = []\n",
    "y_pred = []\n",
    "\n",
    "for video_id, probs in video_preds.items():\n",
    "    avg_prob = sum(probs) / len(probs)\n",
    "    pred_label = 1 if avg_prob >= 0.5 else 0\n",
    "    true_label = video_labels[video_id]\n",
    "\n",
    "    y_true.append(true_label)\n",
    "    y_pred.append(pred_label)\n",
    "\n",
    "# Compute confusion matrix\n",
    "cm = confusion_matrix(y_true, y_pred)\n",
    "disp = ConfusionMatrixDisplay(confusion_matrix=cm, display_labels=[\"Manipulated\", \"Real\"])\n",
    "\n",
    "# Plot the confusion matrix\n",
    "fig, ax = plt.subplots(figsize=(6, 5))\n",
    "disp.plot(cmap='Blues', values_format='d', ax=ax)\n",
    "ax.set_title(\"Confusion Matrix: Test\")\n",
    "plt.xticks(rotation=45)\n",
    "plt.tight_layout()\n",
    "plt.show()\n"
   ]
  },
  {
   "cell_type": "markdown",
   "id": "cd25677f-a671-4e39-8aef-289fb49b4a08",
   "metadata": {},
   "source": [
    "# ROC Curve"
   ]
  },
  {
   "cell_type": "code",
   "execution_count": 24,
   "id": "f53bd5d0-52f0-447b-b726-9e227771658a",
   "metadata": {},
   "outputs": [
    {
     "data": {
      "image/png": "[encoded data removed]",
      "text/plain": [
       "<Figure size 600x500 with 1 Axes>"
      ]
     },
     "metadata": {},
     "output_type": "display_data"
    }
   ],
   "source": [
    "from sklearn.metrics import roc_curve, auc\n",
    "import matplotlib.pyplot as plt\n",
    "\n",
    "# Collect true labels and predicted probabilities\n",
    "y_true = []\n",
    "y_score = []\n",
    "\n",
    "for video_id, probs in video_preds.items():\n",
    "    avg_prob = sum(probs) / len(probs)  # probability of class \"real\"\n",
    "    true_label = video_labels[video_id]\n",
    "\n",
    "    y_true.append(true_label)\n",
    "    y_score.append(avg_prob)  # keep raw probability for ROC\n",
    "\n",
    "# Compute ROC curve and AUC\n",
    "fpr, tpr, thresholds = roc_curve(y_true, y_score)\n",
    "roc_auc = auc(fpr, tpr)\n",
    "\n",
    "# Plot ROC curve\n",
    "plt.figure(figsize=(6, 5))\n",
    "plt.plot(fpr, tpr, color='darkorange', lw=2, label=f'ROC curve (AUC = {roc_auc:.2f})')\n",
    "plt.plot([0, 1], [0, 1], color='navy', lw=2, linestyle='--')\n",
    "plt.xlim([0.0, 1.0])\n",
    "plt.ylim([0.0, 1.05])\n",
    "plt.xlabel('False Positive Rate')\n",
    "plt.ylabel('True Positive Rate')\n",
    "plt.title('ROC Curve: Test')\n",
    "plt.legend(loc=\"lower right\")\n",
    "plt.grid(True)\n",
    "plt.tight_layout()\n",
    "plt.show()\n"
   ]
  },
  {
   "cell_type": "code",
   "execution_count": null,
   "id": "a01c1bd9-b69f-4d26-902d-5b0646cd4e97",
   "metadata": {},
   "outputs": [],
   "source": []
  }
 ],
 "metadata": {
  "kernelspec": {
   "display_name": "Python 3 (ipykernel)",
   "language": "python",
   "name": "python3"
  },
  "language_info": {
   "codemirror_mode": {
    "name": "ipython",
    "version": 3
   },
   "file_extension": ".py",
   "mimetype": "text/x-python",
   "name": "python",
   "nbconvert_exporter": "python",
   "pygments_lexer": "ipython3",
   "version": "3.13.5"
  }
 },
 "nbformat": 4,
 "nbformat_minor": 5
}
